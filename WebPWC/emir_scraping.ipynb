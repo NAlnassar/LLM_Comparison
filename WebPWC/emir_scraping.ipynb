{
 "cells": [
  {
   "cell_type": "code",
   "execution_count": 4,
   "metadata": {},
   "outputs": [],
   "source": [
    "from bs4 import BeautifulSoup\n",
    "import requests"
   ]
  },
  {
   "cell_type": "markdown",
   "metadata": {},
   "source": [
    "Urls to Scrape:\n",
    "https://u.ae/en/information-and-services/visa-and-emirates-id\n",
    "https://u.ae/en/information-and-services/visa-and-emirates-id/residence-visas\n",
    "https://u.ae/en/information-and-services/visa-and-emirates-id/residence-visas/golden-visa"
   ]
  },
  {
   "cell_type": "code",
   "execution_count": 5,
   "metadata": {},
   "outputs": [],
   "source": [
    "url = \"https://u.ae/en/information-and-services/\""
   ]
  },
  {
   "cell_type": "code",
   "execution_count": 6,
   "metadata": {},
   "outputs": [
    {
     "name": "stdout",
     "output_type": "stream",
     "text": [
      "\n",
      "1,669\n",
      "Transactional services\n",
      "82\n",
      "Informational services\n",
      "54\n",
      "Commercial services\n",
      "71\n",
      "Social services\n",
      "37\n",
      "Seizural services\n",
      "188\n",
      "Priority services\n",
      "Display services for:\n",
      "All\n",
      "All\n",
      "Individuals\n",
      "Visitors\n",
      "Businesses\n",
      "Government\n",
      "All\n",
      "Individuals\n",
      "Visitors\n",
      "Businesses\n",
      "Government\n",
      "Services around the clock\n",
      "Top digital services provided by government entities around the clock\n",
      "Visa and Emirates ID\n",
      "Tourist visas, visit visas, entry permits, residency permits and Emirates ID\n",
      "Jobs\n",
      "Job search, regulations, employment process, contracts and more\n",
      "Education\n",
      "Education system, schools, higher education, eLearning, scholarships\n",
      "Business\n",
      "Planning, starting, running and closing businesses on the mainland and in free zones\n",
      "Moving to the UAE\n",
      "Health, education, jobs, visa, Emirates ID, transportation, finance and more\n",
      "Justice, safety and the law\n",
      "Justice system, community protection, human rights, cyber security and more\n",
      "Visiting and exploring the UAE\n",
      "Flights, hotels, itineraries, visas, money exchange, attractions, shopping\n",
      "Transportation\n",
      "Roadways, railways, waterways and airways\n",
      "Finance and investment\n",
      "Banking, financial markets, taxes, customs duty, insurance, pension and more\n",
      "Environment and energy\n",
      "Ecosystems, climate change, renewable, nuclear energy, sustainability and more\n",
      "Housing\n",
      "Housing programmes, authorities and more\n",
      "Health and fitness\n",
      "Insurance, healthcare facilities, emergency services, patients' rights\n",
      "Passports and travelling\n",
      "Passports, visas, travel arrangements, advisories, customs and more\n",
      "Public holidays and religious affairs\n",
      "Public holidays, religious affairs, Ramadan, Hajj, religious events and more\n",
      "Infrastructure\n",
      "Civic facilities, telecommunications, mail services and more\n",
      "Social affairs\n",
      "National identity, marriage, divorce, births, deaths, social welfare and more\n",
      "Charity and humanitarian work\n",
      "Setting up a charitable organisation, raising funds, volunteering and more\n",
      "Connected government (G2G)\n",
      "FedNet, Government Service Bus, UAE Pass, mSurvey and more\n",
      "Services A to Z\n",
      "List of links to the eServices of the United Arab Emirates Government\n",
      "Resources\n",
      "Map\n",
      "Government data\n",
      "About this portal\n",
      "eNewsletter\n",
      "Participation\n",
      "Disclaimer\n",
      "Citizen Charter\n",
      "SDGs\n",
      "Digital participation policy\n",
      "Accessibility\n",
      "Environment\n",
      "Site map\n",
      "Website statistics\n",
      "Portal team\n",
      "FAQs\n",
      "171 Tawasul\n",
      "Digital Government\n",
      "\n",
      "Tuesday, 4 Jun 2024\n",
      "2:48 AM (GMT +4)\n",
      "\n",
      "2024\n",
      "                                U.ae\n",
      "All rights reserved\n"
     ]
    }
   ],
   "source": [
    "soup = BeautifulSoup(requests.get(url).content, \"html.parser\")\n",
    "for item in soup.select(\".col-md-4\"):\n",
    "    print(item.get_text(strip=True, separator=\"\\n\"))\n"
   ]
  },
  {
   "cell_type": "markdown",
   "metadata": {},
   "source": [
    "## Finding sub pages"
   ]
  },
  {
   "cell_type": "code",
   "execution_count": 7,
   "metadata": {},
   "outputs": [],
   "source": [
    "sub_pages = [item[\"href\"] for item in soup.select(\".col-md-4 a\")]\n",
    "\n",
    "#Dropping dupicates\n",
    "sub_pages = list(dict.fromkeys(sub_pages))\n",
    "\n",
    "#Dropping empty strings and hashtags\n",
    "\n",
    "sub_pages = [item for item in sub_pages if item != \"\" and item != \"#\"]"
   ]
  },
  {
   "cell_type": "code",
   "execution_count": 8,
   "metadata": {},
   "outputs": [
    {
     "data": {
      "text/plain": [
       "42"
      ]
     },
     "execution_count": 8,
     "metadata": {},
     "output_type": "execute_result"
    }
   ],
   "source": [
    "len(sub_pages)"
   ]
  },
  {
   "cell_type": "code",
   "execution_count": 9,
   "metadata": {},
   "outputs": [
    {
     "name": "stdout",
     "output_type": "stream",
     "text": [
      "['/en/information-and-services/top-government-services', '/en/information-and-services/visa-and-emirates-id', '/en/information-and-services/jobs', '/en/information-and-services/education', '/en/information-and-services/business', '/en/information-and-services/moving-to-the-uae', '/en/information-and-services/justice-safety-and-the-law', '/en/information-and-services/visiting-and-exploring-the-uae', '/en/information-and-services/transportation', '/en/information-and-services/finance-and-investment', '/en/information-and-services/environment-and-energy', '/en/information-and-services/housing', '/en/information-and-services/health-and-fitness', '/en/information-and-services/passports-and-traveling', '/en/information-and-services/public-holidays-and-religious-affairs', '/en/information-and-services/infrastructure', '/en/information-and-services/social-affairs', '/en/information-and-services/charity-and-humanitarian-work', '/en/information-and-services/g2g-services', '/en/information-and-services/services-a-to-z', '/en/resources', '/en/footer/map', 'https://bayanat.ae/en', '/en/footer/about-this-portal', '/en/footer/newsletter', 'https://u.ae/uaepasstoken?url=https://sharik.ae', '/en/footer/disclaimer', '/en/footer/citizen-charter', 'https://uaesdgs.ae/en', '/en/footer/digital-participation-policy', '/en/footer/accessibility', 'https://beeatna.ae/en/home.aspx', '/en/footer/sitemap', '/en/statistics', '/en/help/contact-us/this-portal', '/en/resources/faqs', 'https://171.ae/en/?lang=en', 'https://dgov.tdra.gov.ae/', 'https://www.facebook.com/uaedgov/', 'https://www.instagram.com/uaemgov/', 'https://x.com/uaedgov/', 'https://www.youtube.com/emiratesegovernment']\n"
     ]
    }
   ],
   "source": [
    "print(sub_pages)"
   ]
  },
  {
   "cell_type": "code",
   "execution_count": 10,
   "metadata": {},
   "outputs": [
    {
     "name": "stdout",
     "output_type": "stream",
     "text": [
      "['/en/information-and-services/top-government-services', '/en/information-and-services/visa-and-emirates-id', '/en/information-and-services/jobs', '/en/information-and-services/education', '/en/information-and-services/business', '/en/information-and-services/moving-to-the-uae', '/en/information-and-services/justice-safety-and-the-law', '/en/information-and-services/visiting-and-exploring-the-uae', '/en/information-and-services/transportation', '/en/information-and-services/finance-and-investment', '/en/information-and-services/environment-and-energy', '/en/information-and-services/housing', '/en/information-and-services/health-and-fitness', '/en/information-and-services/passports-and-traveling', '/en/information-and-services/public-holidays-and-religious-affairs', '/en/information-and-services/infrastructure', '/en/information-and-services/social-affairs', '/en/information-and-services/charity-and-humanitarian-work', '/en/information-and-services/g2g-services', '/en/information-and-services/services-a-to-z']\n",
      "20\n"
     ]
    }
   ],
   "source": [
    "#Only keeping sub pages that have \"/en/information-and-services/\"\n",
    "sub_pages = [item for item in sub_pages if \"/en/information-and-services/\" in item]\n",
    "print(sub_pages)\n",
    "print(len(sub_pages))"
   ]
  },
  {
   "cell_type": "markdown",
   "metadata": {},
   "source": [
    "## Scraping subpages"
   ]
  },
  {
   "cell_type": "code",
   "execution_count": 11,
   "metadata": {},
   "outputs": [
    {
     "name": "stdout",
     "output_type": "stream",
     "text": [
      "['https://u.ae/en/information-and-services/top-government-services', 'https://u.ae/en/information-and-services/visa-and-emirates-id', 'https://u.ae/en/information-and-services/jobs', 'https://u.ae/en/information-and-services/education', 'https://u.ae/en/information-and-services/business', 'https://u.ae/en/information-and-services/moving-to-the-uae', 'https://u.ae/en/information-and-services/justice-safety-and-the-law', 'https://u.ae/en/information-and-services/visiting-and-exploring-the-uae', 'https://u.ae/en/information-and-services/transportation', 'https://u.ae/en/information-and-services/finance-and-investment', 'https://u.ae/en/information-and-services/environment-and-energy', 'https://u.ae/en/information-and-services/housing', 'https://u.ae/en/information-and-services/health-and-fitness', 'https://u.ae/en/information-and-services/passports-and-traveling', 'https://u.ae/en/information-and-services/public-holidays-and-religious-affairs', 'https://u.ae/en/information-and-services/infrastructure', 'https://u.ae/en/information-and-services/social-affairs', 'https://u.ae/en/information-and-services/charity-and-humanitarian-work', 'https://u.ae/en/information-and-services/g2g-services', 'https://u.ae/en/information-and-services/services-a-to-z']\n"
     ]
    }
   ],
   "source": [
    "starting = \"https://u.ae\"\n",
    "sub_pages = [starting + item for item in sub_pages]\n",
    "print(sub_pages)"
   ]
  },
  {
   "cell_type": "code",
   "execution_count": 13,
   "metadata": {},
   "outputs": [],
   "source": [
    "#Finding all sub pages\n",
    "sub_sub_pages = []\n",
    "for page in sub_pages:\n",
    "    soup = BeautifulSoup(requests.get(page).content, \"html.parser\")\n",
    "    sub_sub_pages += [starting + item[\"href\"] for item in soup.select(\".col-md-3 a\") if item[\"href\"] != \"\" and\n",
    "                       item[\"href\"] != \"#\" and \"#\" not in item[\"href\"]]\n"
   ]
  },
  {
   "cell_type": "code",
   "execution_count": 14,
   "metadata": {},
   "outputs": [
    {
     "name": "stdout",
     "output_type": "stream",
     "text": [
      "['https://u.ae/en/information-and-services/visa-and-emirates-id/do-you-need-an-entry-permit-or-a-visa-to-enter-the-uae', 'https://u.ae/en/information-and-services/visa-and-emirates-id/where-to-apply-for-entry-permits-or-visas', 'https://u.ae/en/information-and-services/visa-and-emirates-id/residence-visas', 'https://u.ae/en/information-and-services/visa-and-emirates-id/visit-visas', 'https://u.ae/en/information-and-services/visa-and-emirates-id/tourist-visa', 'https://u.ae/en/information-and-services/visa-and-emirates-id/transit-visa', 'https://u.ae/en/information-and-services/visa-and-emirates-id/visa-fees', 'https://u.ae/en/information-and-services/visa-and-emirates-id/track-visa-application-and-validity', 'https://u.ae/en/information-and-services/visa-and-emirates-id/emirates-id', 'https://u.ae/en/information-and-services/visa-and-emirates-id/lost-your-passport-with-uae-residence-visa-on-it', 'https://u.ae/en/information-and-services/visa-and-emirates-id/tips-to-avoid-labour-and-visa-fraud', 'https://u.ae/en/information-and-services/visa-and-emirates-id/faqs-about-visa-and-emirates-id', 'https://u.ae/en/information-and-services/jobs/the-work-bundle-initiative', 'https://u.ae/en/information-and-services/jobs/eservices-for-jobs', 'https://u.ae/en/information-and-services/jobs/working-in-uae-government-sector', 'https://u.ae/en/information-and-services/jobs/employment-in-the-private-sector', 'https://u.ae/en/information-and-services/jobs/working-in-free-zones', 'https://u.ae/en/information-and-services/jobs/training-and-development', 'https://u.ae/en/information-and-services/jobs/health-and-safety-at-workplace', 'https://u.ae/en/information-and-services/jobs/insurance', 'https://u.ae/en/information-and-services/jobs/searching-for-a-job', 'https://u.ae/en/information-and-services/jobs/working-for-two-employers-at-one-time', 'https://u.ae/en/information-and-services/jobs/employment-of-people-with-special-needs', 'https://u.ae/en/information-and-services/jobs/employment-and-training-of-minors', 'https://u.ae/en/information-and-services/social-affairs/gender-equality/gender-equality-in-the-workplace', 'https://u.ae/en/information-and-services/jobs/human-resources-budget', 'https://u.ae/en/information-and-services/jobs/subscribe-to-job-services', 'https://u.ae/en/information-and-services/jobs/labour-market-data', 'https://u.ae/en/information-and-services/jobs/faqs-about-jobs', 'https://u.ae/en/information-and-services/education/emsat', 'https://u.ae/en/information-and-services/education/importance-of-education-to-the-government', 'https://u.ae/en/information-and-services/social-affairs/children/early-childhood-development-and-care', 'https://u.ae/en/information-and-services/education/school-education-k-12', 'https://u.ae/en/information-and-services/education/higher-education', 'https://u.ae/en/information-and-services/education/technical-and-vocational-education', 'https://u.ae/en/information-and-services/education/education-for-people-with-special-needs', 'https://u.ae/en/information-and-services/education/lifelong-learning', 'https://u.ae/en/information-and-services/education/online-training', 'https://u.ae/en/information-and-services/education/internships', 'https://u.ae/en/information-and-services/education/teaching-specialists-programme', 'https://u.ae/en/information-and-services/education/licensing-private-educational-institutes', 'https://u.ae/en/information-and-services/education/health-and-safety-in-schools', 'https://u.ae/en/information-and-services/education/education-documents', 'https://u.ae/en/information-and-services/education/education-budget', 'https://u.ae/en/information-and-services/education/subscribe-to-updates-and-alerts-on-education', 'https://u.ae/en/information-and-services/education/eservices-for-education', 'https://u.ae/en/information-and-services/education/faqs-about-education', 'https://u.ae/en/information-and-services/business/the-uae-an-ideal-investment-destination', 'https://u.ae/en/information-and-services/business/doing-business-on-the-mainland', 'https://u.ae/en/information-and-services/business/doing-business-in-free-zones', 'https://u.ae/en/information-and-services/business/obtaining-certificates-and-licences', 'https://u.ae/en/information-and-services/finance-and-investment/foreign-direct-investment', 'https://u.ae/en/information-and-services/business/small-and-medium-enterprises', 'https://u.ae/en/information-and-services/business/ecommerce', 'https://u.ae/en/information-and-services/business/public-private-people-partnership', 'https://u.ae/en/information-and-services/business/regulations', 'https://u.ae/en/information-and-services/finance-and-investment/taxation', 'https://u.ae/en/information-and-services/business/financial-credibility-for-individuals-and-companies', 'https://u.ae/en/about-the-uae/strategies-initiatives-and-awards/strategies-plans-and-visions/business', 'https://u.ae/en/information-and-services/visa-and-emirates-id/visit-visas/visit-visa-to-explore-investment-opportunities', 'https://u.ae/en/information-and-services/visa-and-emirates-id/residence-visas/residence-visa-for-doing-business-in-the-uae', 'https://u.ae/en/information-and-services/business/important-digital-services', 'https://u.ae/en/information-and-services/business/faqs-about-business', 'https://u.ae/en/information-and-services/business/business-incubators', 'https://u.ae/en/about-the-uae/fact-sheet', 'https://u.ae/en/information-and-services/visa-and-emirates-id/residence-visas', 'https://u.ae/en/information-and-services/visa-and-emirates-id/emirates-id', 'https://u.ae/en/information-and-services/moving-to-the-uae/expatriates-buying-a-property-in-the-uae', 'https://u.ae/en/information-and-services/moving-to-the-uae/leasing-a-property-in-the-uae', 'https://u.ae/en/information-and-services/public-holidays-and-religious-affairs', 'https://u.ae/en/information-and-services/justice-safety-and-the-law/justice-safety-and-we-the-uae-2031-vision', 'https://u.ae/en/information-and-services/justice-safety-and-the-law/justice-and-safety-as-per-the-constitution', 'https://u.ae/en/about-the-uae/human-rights-in-the-uae', 'https://u.ae/en/information-and-services/justice-safety-and-the-law/handling-emergencies', 'https://u.ae/en/about-the-uae/strategies-initiatives-and-awards/strategies-plans-and-visions/social-affairs/national-action-plan-on-women-peace-and-security', 'https://u.ae/en/information-and-services/justice-safety-and-the-law/how-are-uae-laws-issued-and-how-to-find-them', 'https://u.ae/en/information-and-services/justice-safety-and-the-law/litigation-procedures', 'https://u.ae/en/information-and-services/justice-safety-and-the-law/correctional-facilities', 'https://u.ae/en/information-and-services/justice-safety-and-the-law/anti-begging', 'https://u.ae/en/information-and-services/justice-safety-and-the-law/anti-discrimination-laws-and-policies', 'https://u.ae/en/information-and-services/justice-safety-and-the-law/promoting-the-competency-of-the-judicial-system-in-the-uae', 'https://u.ae/en/information-and-services/justice-safety-and-the-law/entities-responsible-for-security-and-safety-in-the-uae', 'https://u.ae/en/information-and-services/justice-safety-and-the-law/armed-forces', 'https://u.ae/en/information-and-services/justice-safety-and-the-law/consumer-protection', 'https://u.ae/en/information-and-services/justice-safety-and-the-law/maintaining-safety-and-security', 'https://u.ae/en/information-and-services/health-and-fitness/food-safety-and-health-tips', 'https://u.ae/en/information-and-services/justice-safety-and-the-law/cyber-safety-and-digital-security', 'https://u.ae/en/information-and-services/justice-safety-and-the-law/road-safety', 'https://u.ae/en/information-and-services/justice-safety-and-the-law/building-safety', 'https://u.ae/en/information-and-services/justice-safety-and-the-law/fire-safety', 'https://u.ae/en/information-and-services/justice-safety-and-the-law/aviation-safety', 'https://u.ae/en/information-and-services/justice-safety-and-the-law/children-safety', 'https://u.ae/en/information-and-services/justice-safety-and-the-law/justice-eservices-and-updates', 'https://u.ae/en/information-and-services/justice-safety-and-the-law/faq-about-justice-safety-and-the-law', 'https://u.ae/en/information-and-services/justice-safety-and-the-law/justice-budget', 'https://u.ae/en/information-and-services/justice-safety-and-the-law/open-data', 'https://u.ae/en/information-and-services/justice-safety-and-the-law/handling-the-covid-19-outbreak', 'https://u.ae/en/information-and-services/visiting-and-exploring-the-uae/uae-an-ideal-tourist-destination', 'https://u.ae/en/information-and-services/visa-and-emirates-id/transit-visa', 'https://u.ae/en/information-and-services/visa-and-emirates-id/tourist-visa', 'https://u.ae/en/information-and-services/visiting-and-exploring-the-uae/how-to-get-to-the-uae', 'https://u.ae/en/information-and-services/visiting-and-exploring-the-uae/where-to-stay-in-the-uae', 'https://u.ae/en/information-and-services/visiting-and-exploring-the-uae/what-to-do-in-the-uae', 'https://u.ae/en/information-and-services/passports-and-traveling/pregnant-women-children-and-infants', 'https://u.ae/en/information-and-services/passports-and-traveling/services-and-facilities-at-the-uae-airports', 'https://u.ae/en/information-and-services/visiting-and-exploring-the-uae/mobile-and-internet-services', 'https://u.ae/en/information-and-services/visiting-and-exploring-the-uae/foreign-currency', 'https://u.ae/en/information-and-services/finance-and-investment/taxation/vat/tax-refund-for-tourists', 'https://u.ae/en/information-and-services/visiting-and-exploring-the-uae/emergency-help-for-tourists-in-the-uae', 'https://u.ae/en/information-and-services/passports-and-traveling/flying-out-of-the-uae', 'https://u.ae/en/information-and-services/visiting-and-exploring-the-uae/open-government-data-tourism-in-the-uae', 'https://u.ae/en/information-and-services/visiting-and-exploring-the-uae/faqs-about-visiting-and-exploring-the-uae', 'https://u.ae/en/information-and-services/transportation/public-transport', 'https://u.ae/en/information-and-services/transportation/roadways', 'https://u.ae/en/information-and-services/transportation/get-a-driving-licence', 'https://u.ae/en/information-and-services/transportation/registering-vehicles-and-fine-inquiry', 'https://u.ae/en/information-and-services/transportation/traffic-fines', 'https://u.ae/en/information-and-services/justice-safety-and-the-law/road-safety', 'https://u.ae/en/information-and-services/environment-and-energy/waste-management/hazardous-waste-permits', 'https://u.ae/en/information-and-services/transportation/public-parking', 'https://u.ae/en/information-and-services/social-affairs/people-of-determination/protection-support-and-assistance-of-people-of-determination/accessible-transport-and-parking-facilities', 'https://u.ae/en/information-and-services/transportation/railways', 'https://u.ae/en/information-and-services/transportation/waterways', 'https://u.ae/en/information-and-services/transportation/airways', 'https://u.ae/en/information-and-services/transportation/strategies-and-policies', 'https://u.ae/en/information-and-services/transportation/smart-mobility-solutions', 'https://u.ae/en/information-and-services/transportation/geospatial-data-in-transportation', 'https://u.ae/en/information-and-services/transportation/faqs-about-transportation', 'https://u.ae/en/information-and-services/finance-and-investment/uae-global-credit-rating', 'https://u.ae/en/information-and-services/finance-and-investment/the-uae-national-currency', 'https://u.ae/en/information-and-services/finance-and-investment/budget', 'https://u.ae/en/information-and-services/finance-and-investment/raising-complaints-against-financial-institutions-and-insurance-companies', 'https://u.ae/en/about-the-uae/science-and-technology/inspiration-behind-the-advancement/sheikh-mohammed-bin-rashid-al-maktoum-fund-to-finance-innovation', 'https://u.ae/en/information-and-services/finance-and-investment/foreign-direct-investment', 'https://u.ae/en/information-and-services/finance-and-investment/local-finance-departments', 'https://u.ae/en/information-and-services/business/financial-credibility-for-individuals-and-companies', 'https://u.ae/en/information-and-services/finance-and-investment/government-expenditure', 'https://u.ae/en/information-and-services/finance-and-investment/Loans-for-individuals', 'https://u.ae/en/information-and-services/finance-and-investment/banking-in-uae', 'https://u.ae/en/information-and-services/finance-and-investment/financial-markets', 'https://u.ae/en/information-and-services/finance-and-investment/taxation', 'https://u.ae/en/information-and-services/finance-and-investment/insurance', 'https://u.ae/en/information-and-services/finance-and-investment/investment-schemes', 'https://u.ae/en/information-and-services/finance-and-investment/clearing-the-customs-and-paying-customs-duty', 'https://u.ae/en/information-and-services/business/public-private-people-partnership/pppp/crowdfunding', 'https://u.ae/en/information-and-services/finance-and-investment/government-fees', 'https://u.ae/en/information-and-services/finance-and-investment/pension-and-end-of-service-benefits', 'https://u.ae/en/information-and-services/finance-and-investment/government-financial-statistics', 'https://u.ae/en/information-and-services/finance-and-investment/finance-docs', 'https://u.ae/en/information-and-services/finance-and-investment/faqs-about-finance-and-investment', 'https://u.ae/en/information-and-services/environment-and-energy/cop', 'https://u.ae/en/information-and-services/environment-and-energy/animal-welfare', 'https://u.ae/en/information-and-services/environment-and-energy/environment-and-government-agenda', 'https://u.ae/en/information-and-services/environment-and-energy/green-governments-and-climate-technology', 'https://u.ae/en/information-and-services/environment-and-energy/improving-air-quality', 'https://u.ae/en/information-and-services/environment-and-energy/topography-and-ecosystems', 'https://u.ae/en/information-and-services/environment-and-energy/water-and-energy', 'https://u.ae/en/information-and-services/environment-and-energy/waste-management', 'https://u.ae/en/information-and-services/environment-and-energy/agriculture', 'https://u.ae/en/information-and-services/environment-and-energy/food-security', 'https://u.ae/en/about-the-uae/digital-uae/digital-cities/smart-sustainable-cities', 'https://u.ae/en/information-and-services/environment-and-energy/the-green-economy-initiative', 'https://u.ae/en/information-and-services/environment-and-energy/environmental-spatial-data', 'https://u.ae/en/information-and-services/environment-and-energy/weather-conditions-and-environmental-status', 'https://u.ae/en/information-and-services/environment-and-energy/programmes-and-awards', 'https://u.ae/en/information-and-services/environment-and-energy/environment-budget', 'https://u.ae/en/information-and-services/environment-and-energy/environment-budget-policy-and-laws', 'https://u.ae/en/information-and-services/environment-and-energy/open-government-data-environment-and-energy', 'https://u.ae/en/information-and-services/environment-and-energy/faqs-about-environment-and-energy', 'https://u.ae/en/information-and-services/environment-and-energy/eservices-for-environment', 'https://u.ae/en/information-and-services/housing/housing-authorities-and-programmes', 'https://u.ae/en/information-and-services/moving-to-the-uae/leasing-a-property-in-the-uae', 'https://u.ae/en/information-and-services/housing/public-utilities', 'https://u.ae/en/information-and-services/housing/eservices-for-housing', 'https://u.ae/en/information-and-services/housing/faqs-about-housing', 'https://u.ae/en/information-and-services/health-and-fitness/covid-19-support', 'https://u.ae/en/information-and-services/health-and-fitness/health-authorities', 'https://u.ae/en/information-and-services/health-and-fitness/healthcare-providers', 'https://u.ae/en/information-and-services/health-and-fitness/health-conditions-for-uae-residence-visa', 'https://u.ae/en/information-and-services/health-and-fitness/getting-a-health-insurance', 'https://u.ae/en/information-and-services/health-and-fitness/combatting-communicable-diseases', 'https://u.ae/en/information-and-services/health-and-fitness/mental-health', 'https://u.ae/en/information-and-services/health-and-fitness/telemedicine', 'https://u.ae/en/information-and-services/social-affairs/marriages/marriage-as-per-the-sharia-law/premarital-counselling-and-screening', 'https://u.ae/en/information-and-services/health-and-fitness/woman-reproductive-and-sexual-healthcare', 'https://u.ae/en/information-and-services/health-and-fitness/childrens-health', 'https://u.ae/en/information-and-services/health-and-fitness/health-of-vulnerable-groups', 'https://u.ae/en/information-and-services/health-and-fitness/patients-rights-and-responsibilities', 'https://u.ae/en/information-and-services/passports-and-traveling/travelling-abroad/travelling-abroad-for-medical-treatment', 'https://u.ae/en/information-and-services/health-and-fitness/blood-donation', 'https://u.ae/en/information-and-services/health-and-fitness/organ-donation-and-transplant', 'https://u.ae/en/information-and-services/health-and-fitness/chronic-diseases-and-natural-disorders', 'https://u.ae/en/information-and-services/health-and-fitness/alternative-medicine', 'https://u.ae/en/information-and-services/health-and-fitness/tobacco-provisions', 'https://u.ae/en/information-and-services/health-and-fitness/drugs-and-controlled-medicines', 'https://u.ae/en/information-and-services/visa-and-emirates-id/visit-visas/patient-and-companion-entry-permits', 'https://u.ae/en/information-and-services/health-and-fitness/health-for-hajj', 'https://u.ae/en/information-and-services/justice-safety-and-the-law/handling-emergencies/medical-emergencies', 'https://u.ae/en/information-and-services/health-and-fitness/food-safety-and-health-tips', 'https://u.ae/en/information-and-services/health-and-fitness/research-in-the-field-of-health', 'https://u.ae/en/information-and-services/health-and-fitness/education-in-the-field-of-health', 'https://u.ae/en/information-and-services/health-and-fitness/healthcare-budget', 'https://u.ae/en/information-and-services/health-and-fitness/healthy-policy-and-laws', 'https://u.ae/en/information-and-services/health-and-fitness/eservices-for-health', 'https://u.ae/en/information-and-services/health-and-fitness/health-services-and-updates', 'https://u.ae/en/information-and-services/health-and-fitness/faqs-about-health-and-fitness', 'https://u.ae/en/information-and-services/passports-and-traveling/the-emirati-passport', 'https://u.ae/en/information-and-services/passports-and-traveling/emirati-nationality', 'https://u.ae/en/information-and-services/passports-and-traveling/travelling-abroad', 'https://u.ae/en/information-and-services/passports-and-traveling/preliminary-checks', 'https://u.ae/en/information-and-services/passports-and-traveling/travel-services-for-uae-nationals', 'https://u.ae/en/information-and-services/passports-and-traveling/modes-of-travel', 'https://u.ae/en/information-and-services/passports-and-traveling/pregnant-women-children-and-infants', 'https://u.ae/en/information-and-services/passports-and-traveling/services-and-facilities-at-the-uae-airports', 'https://u.ae/en/information-and-services/passports-and-traveling/booking-air-tickets-hotels-and-itineraries', 'https://u.ae/en/information-and-services/passports-and-traveling/customs-regulations', 'https://u.ae/en/information-and-services/passports-and-traveling/foreign-currency', 'https://u.ae/en/information-and-services/passports-and-traveling/mobile-and-internet-services', 'https://u.ae/en/information-and-services/passports-and-traveling/driving-abroad', 'https://u.ae/en/information-and-services/passports-and-traveling/birth-or-death-abroad', 'https://u.ae/en/information-and-services/passports-and-traveling/travelling-to-canada-us-and-uk', 'https://u.ae/en/information-and-services/passports-and-traveling/statistics-and-most-visited-destinations', 'https://u.ae/en/information-and-services/passports-and-traveling/flying-out-of-the-uae', 'https://u.ae/en/information-and-services/passports-and-traveling/faqs-about-passports-and-travelling', 'https://u.ae/en/information-and-services/public-holidays-and-religious-affairs/public-holidays', 'https://u.ae/en/information-and-services/public-holidays-and-religious-affairs/official-religion-and-religious-affairs-entities', 'https://u.ae/en/information-and-services/public-holidays-and-religious-affairs/ramadan', 'https://u.ae/en/information-and-services/public-holidays-and-religious-affairs/conversion-to-islam', 'https://u.ae/en/information-and-services/public-holidays-and-religious-affairs/other-religions-and-religious-festivals', 'https://u.ae/en/information-and-services/infrastructure/civic-facilities', 'https://u.ae/en/information-and-services/infrastructure/telecommunications', 'https://u.ae/en/information-and-services/finance-and-investment/banking-in-uae', 'https://u.ae/en/information-and-services/infrastructure/mail-services', 'https://u.ae/en/information-and-services/housing/public-utilities', 'https://u.ae/en/information-and-services/infrastructure/tendering-for-government-construction-projects', 'https://u.ae/en/information-and-services/infrastructure/nothing-is-impossible-hackathon', 'https://u.ae/en/information-and-services/infrastructure/faqs-about-infrastructure', 'https://u.ae/en/information-and-services/social-affairs/society-and-we-the-uae-2031-vision', 'https://u.ae/en/information-and-services/social-affairs/social-welfare', 'https://u.ae/en/information-and-services/social-affairs/gender-equality', 'https://u.ae/en/information-and-services/social-affairs/women', 'https://u.ae/en/information-and-services/social-affairs/youth', 'https://u.ae/en/information-and-services/social-affairs/children', 'https://u.ae/en/information-and-services/social-affairs/senior-emiratis', 'https://u.ae/en/information-and-services/social-affairs/people-of-determination', 'https://u.ae/en/information-and-services/social-affairs/communities-in-focus', 'https://u.ae/en/information-and-services/social-affairs/marriages', 'https://u.ae/en/information-and-services/social-affairs/law-for-personal-affairs', 'https://u.ae/en/information-and-services/social-affairs/having-a-baby', 'https://u.ae/en/information-and-services/social-affairs/divorce-in-the-uae', 'https://u.ae/en/information-and-services/social-affairs/deaths', 'https://u.ae/en/about-the-uae/culture/sports-and-recreation', 'https://u.ae/en/information-and-services/social-affairs/happiness', 'https://u.ae/en/information-and-services/social-affairs/digital-wellbeing', 'https://u.ae/en/information-and-services/social-affairs/policies-and-laws-on-social-welfare', 'https://u.ae/en/information-and-services/social-affairs/social-protection-budget', 'https://u.ae/en/information-and-services/social-affairs/subscribe-to-social-protection-services', 'https://u.ae/en/information-and-services/social-affairs/faqs-about-social-affairs', 'https://u.ae/en/information-and-services/social-affairs/eservices', 'https://u.ae/en/information-and-services/charity-and-humanitarian-work/the-mothers-endowment-campaign', 'https://u.ae/en/information-and-services/charity-and-humanitarian-work/sheikh-khalifas-philanthropic-activities', 'https://u.ae/en/information-and-services/charity-and-humanitarian-work/sheikh-mohammeds-philanthropic-activities', 'https://u.ae/en/information-and-services/charity-and-humanitarian-work/the-uae-aid-to-foreign-countries', 'https://u.ae/en/information-and-services/charity-and-humanitarian-work/ways-of-doing-charity-in-the-uae', 'https://u.ae/en/information-and-services/charity-and-humanitarian-work/volunteering-platforms-and-initiatives', 'https://u.ae/en/information-and-services/charity-and-humanitarian-work/1-billion-meals-endowment', 'https://u.ae/en/information-and-services/charity-and-humanitarian-work/humanitarian-accelerators', 'https://u.ae/en/information-and-services/charity-and-humanitarian-work/humanitarian-logistics-databank', 'https://u.ae/en/about-the-uae/strategies-initiatives-and-awards/awards/Society-and-humanitarian-work/arab-hope-makers', 'https://u.ae/en/information-and-services/education/importance-of-education-to-the-government/literacy-challenge-in-the-arab-world-2030', 'https://u.ae/en/information-and-services/charity-and-humanitarian-work/faqs-about-charity-and-humanitarian-work', 'https://u.ae/en/information-and-services/g2g-services/guidance-and-tutorials-on-eservices', 'https://u.ae/en/information-and-services/g2g-services/open-government-data', 'https://u.ae/en/about-the-uae/digital-uae/digital-transformation/platforms-and-apps/the-uae-pass-app', 'https://u.ae/en/information-and-services/social-affairs/having-a-baby/mabrouk-ma-yak', 'https://u.ae/en/information-and-services/business/important-digital-services/bashr', 'https://u.ae/en/information-and-services/business/important-digital-services/national-economic-register', 'https://u.ae/en/information-and-services/g2g-services/fednet', 'https://u.ae/en/information-and-services/g2g-services/government-services-bus', 'https://u.ae/en/information-and-services/g2g-services/internet-protocol-6', 'https://u.ae/en/information-and-services/g2g-services/measuring-the-digital-government-indices', 'https://u.ae/en/information-and-services/g2g-services/msurvey', 'https://u.ae/en/information-and-services/g2g-services/faqs-about-connected-government']\n"
     ]
    }
   ],
   "source": [
    "\n",
    "print(sub_sub_pages)"
   ]
  },
  {
   "cell_type": "code",
   "execution_count": 15,
   "metadata": {},
   "outputs": [
    {
     "name": "stdout",
     "output_type": "stream",
     "text": [
      "['https://u.ae/en/information-and-services/visa-and-emirates-id/do-you-need-an-entry-permit-or-a-visa-to-enter-the-uae', 'https://u.ae/en/information-and-services/visa-and-emirates-id/where-to-apply-for-entry-permits-or-visas', 'https://u.ae/en/information-and-services/visa-and-emirates-id/residence-visas', 'https://u.ae/en/information-and-services/visa-and-emirates-id/visit-visas', 'https://u.ae/en/information-and-services/visa-and-emirates-id/tourist-visa', 'https://u.ae/en/information-and-services/visa-and-emirates-id/transit-visa', 'https://u.ae/en/information-and-services/visa-and-emirates-id/visa-fees', 'https://u.ae/en/information-and-services/visa-and-emirates-id/track-visa-application-and-validity', 'https://u.ae/en/information-and-services/visa-and-emirates-id/emirates-id', 'https://u.ae/en/information-and-services/visa-and-emirates-id/lost-your-passport-with-uae-residence-visa-on-it', 'https://u.ae/en/information-and-services/visa-and-emirates-id/tips-to-avoid-labour-and-visa-fraud', 'https://u.ae/en/information-and-services/visa-and-emirates-id/faqs-about-visa-and-emirates-id', 'https://u.ae/en/information-and-services/jobs/the-work-bundle-initiative', 'https://u.ae/en/information-and-services/jobs/eservices-for-jobs', 'https://u.ae/en/information-and-services/jobs/working-in-uae-government-sector', 'https://u.ae/en/information-and-services/jobs/employment-in-the-private-sector', 'https://u.ae/en/information-and-services/jobs/working-in-free-zones', 'https://u.ae/en/information-and-services/jobs/training-and-development', 'https://u.ae/en/information-and-services/jobs/health-and-safety-at-workplace', 'https://u.ae/en/information-and-services/jobs/insurance', 'https://u.ae/en/information-and-services/jobs/searching-for-a-job', 'https://u.ae/en/information-and-services/jobs/working-for-two-employers-at-one-time', 'https://u.ae/en/information-and-services/jobs/employment-of-people-with-special-needs', 'https://u.ae/en/information-and-services/jobs/employment-and-training-of-minors', 'https://u.ae/en/information-and-services/social-affairs/gender-equality/gender-equality-in-the-workplace', 'https://u.ae/en/information-and-services/jobs/human-resources-budget', 'https://u.ae/en/information-and-services/jobs/subscribe-to-job-services', 'https://u.ae/en/information-and-services/jobs/labour-market-data', 'https://u.ae/en/information-and-services/jobs/faqs-about-jobs', 'https://u.ae/en/information-and-services/education/emsat', 'https://u.ae/en/information-and-services/education/importance-of-education-to-the-government', 'https://u.ae/en/information-and-services/social-affairs/children/early-childhood-development-and-care', 'https://u.ae/en/information-and-services/education/school-education-k-12', 'https://u.ae/en/information-and-services/education/higher-education', 'https://u.ae/en/information-and-services/education/technical-and-vocational-education', 'https://u.ae/en/information-and-services/education/education-for-people-with-special-needs', 'https://u.ae/en/information-and-services/education/lifelong-learning', 'https://u.ae/en/information-and-services/education/online-training', 'https://u.ae/en/information-and-services/education/internships', 'https://u.ae/en/information-and-services/education/teaching-specialists-programme', 'https://u.ae/en/information-and-services/education/licensing-private-educational-institutes', 'https://u.ae/en/information-and-services/education/health-and-safety-in-schools', 'https://u.ae/en/information-and-services/education/education-documents', 'https://u.ae/en/information-and-services/education/education-budget', 'https://u.ae/en/information-and-services/education/subscribe-to-updates-and-alerts-on-education', 'https://u.ae/en/information-and-services/education/eservices-for-education', 'https://u.ae/en/information-and-services/education/faqs-about-education', 'https://u.ae/en/information-and-services/business/the-uae-an-ideal-investment-destination', 'https://u.ae/en/information-and-services/business/doing-business-on-the-mainland', 'https://u.ae/en/information-and-services/business/doing-business-in-free-zones', 'https://u.ae/en/information-and-services/business/obtaining-certificates-and-licences', 'https://u.ae/en/information-and-services/finance-and-investment/foreign-direct-investment', 'https://u.ae/en/information-and-services/business/small-and-medium-enterprises', 'https://u.ae/en/information-and-services/business/ecommerce', 'https://u.ae/en/information-and-services/business/public-private-people-partnership', 'https://u.ae/en/information-and-services/business/regulations', 'https://u.ae/en/information-and-services/finance-and-investment/taxation', 'https://u.ae/en/information-and-services/business/financial-credibility-for-individuals-and-companies', 'https://u.ae/en/about-the-uae/strategies-initiatives-and-awards/strategies-plans-and-visions/business', 'https://u.ae/en/information-and-services/visa-and-emirates-id/visit-visas/visit-visa-to-explore-investment-opportunities', 'https://u.ae/en/information-and-services/visa-and-emirates-id/residence-visas/residence-visa-for-doing-business-in-the-uae', 'https://u.ae/en/information-and-services/business/important-digital-services', 'https://u.ae/en/information-and-services/business/faqs-about-business', 'https://u.ae/en/information-and-services/business/business-incubators', 'https://u.ae/en/about-the-uae/fact-sheet', 'https://u.ae/en/information-and-services/moving-to-the-uae/expatriates-buying-a-property-in-the-uae', 'https://u.ae/en/information-and-services/moving-to-the-uae/leasing-a-property-in-the-uae', 'https://u.ae/en/information-and-services/public-holidays-and-religious-affairs', 'https://u.ae/en/information-and-services/justice-safety-and-the-law/justice-safety-and-we-the-uae-2031-vision', 'https://u.ae/en/information-and-services/justice-safety-and-the-law/justice-and-safety-as-per-the-constitution', 'https://u.ae/en/about-the-uae/human-rights-in-the-uae', 'https://u.ae/en/information-and-services/justice-safety-and-the-law/handling-emergencies', 'https://u.ae/en/about-the-uae/strategies-initiatives-and-awards/strategies-plans-and-visions/social-affairs/national-action-plan-on-women-peace-and-security', 'https://u.ae/en/information-and-services/justice-safety-and-the-law/how-are-uae-laws-issued-and-how-to-find-them', 'https://u.ae/en/information-and-services/justice-safety-and-the-law/litigation-procedures', 'https://u.ae/en/information-and-services/justice-safety-and-the-law/correctional-facilities', 'https://u.ae/en/information-and-services/justice-safety-and-the-law/anti-begging', 'https://u.ae/en/information-and-services/justice-safety-and-the-law/anti-discrimination-laws-and-policies', 'https://u.ae/en/information-and-services/justice-safety-and-the-law/promoting-the-competency-of-the-judicial-system-in-the-uae', 'https://u.ae/en/information-and-services/justice-safety-and-the-law/entities-responsible-for-security-and-safety-in-the-uae', 'https://u.ae/en/information-and-services/justice-safety-and-the-law/armed-forces', 'https://u.ae/en/information-and-services/justice-safety-and-the-law/consumer-protection', 'https://u.ae/en/information-and-services/justice-safety-and-the-law/maintaining-safety-and-security', 'https://u.ae/en/information-and-services/health-and-fitness/food-safety-and-health-tips', 'https://u.ae/en/information-and-services/justice-safety-and-the-law/cyber-safety-and-digital-security', 'https://u.ae/en/information-and-services/justice-safety-and-the-law/road-safety', 'https://u.ae/en/information-and-services/justice-safety-and-the-law/building-safety', 'https://u.ae/en/information-and-services/justice-safety-and-the-law/fire-safety', 'https://u.ae/en/information-and-services/justice-safety-and-the-law/aviation-safety', 'https://u.ae/en/information-and-services/justice-safety-and-the-law/children-safety', 'https://u.ae/en/information-and-services/justice-safety-and-the-law/justice-eservices-and-updates', 'https://u.ae/en/information-and-services/justice-safety-and-the-law/faq-about-justice-safety-and-the-law', 'https://u.ae/en/information-and-services/justice-safety-and-the-law/justice-budget', 'https://u.ae/en/information-and-services/justice-safety-and-the-law/open-data', 'https://u.ae/en/information-and-services/justice-safety-and-the-law/handling-the-covid-19-outbreak', 'https://u.ae/en/information-and-services/visiting-and-exploring-the-uae/uae-an-ideal-tourist-destination', 'https://u.ae/en/information-and-services/visiting-and-exploring-the-uae/how-to-get-to-the-uae', 'https://u.ae/en/information-and-services/visiting-and-exploring-the-uae/where-to-stay-in-the-uae', 'https://u.ae/en/information-and-services/visiting-and-exploring-the-uae/what-to-do-in-the-uae', 'https://u.ae/en/information-and-services/passports-and-traveling/pregnant-women-children-and-infants', 'https://u.ae/en/information-and-services/passports-and-traveling/services-and-facilities-at-the-uae-airports', 'https://u.ae/en/information-and-services/visiting-and-exploring-the-uae/mobile-and-internet-services', 'https://u.ae/en/information-and-services/visiting-and-exploring-the-uae/foreign-currency', 'https://u.ae/en/information-and-services/finance-and-investment/taxation/vat/tax-refund-for-tourists', 'https://u.ae/en/information-and-services/visiting-and-exploring-the-uae/emergency-help-for-tourists-in-the-uae', 'https://u.ae/en/information-and-services/passports-and-traveling/flying-out-of-the-uae', 'https://u.ae/en/information-and-services/visiting-and-exploring-the-uae/open-government-data-tourism-in-the-uae', 'https://u.ae/en/information-and-services/visiting-and-exploring-the-uae/faqs-about-visiting-and-exploring-the-uae', 'https://u.ae/en/information-and-services/transportation/public-transport', 'https://u.ae/en/information-and-services/transportation/roadways', 'https://u.ae/en/information-and-services/transportation/get-a-driving-licence', 'https://u.ae/en/information-and-services/transportation/registering-vehicles-and-fine-inquiry', 'https://u.ae/en/information-and-services/transportation/traffic-fines', 'https://u.ae/en/information-and-services/environment-and-energy/waste-management/hazardous-waste-permits', 'https://u.ae/en/information-and-services/transportation/public-parking', 'https://u.ae/en/information-and-services/social-affairs/people-of-determination/protection-support-and-assistance-of-people-of-determination/accessible-transport-and-parking-facilities', 'https://u.ae/en/information-and-services/transportation/railways', 'https://u.ae/en/information-and-services/transportation/waterways', 'https://u.ae/en/information-and-services/transportation/airways', 'https://u.ae/en/information-and-services/transportation/strategies-and-policies', 'https://u.ae/en/information-and-services/transportation/smart-mobility-solutions', 'https://u.ae/en/information-and-services/transportation/geospatial-data-in-transportation', 'https://u.ae/en/information-and-services/transportation/faqs-about-transportation', 'https://u.ae/en/information-and-services/finance-and-investment/uae-global-credit-rating', 'https://u.ae/en/information-and-services/finance-and-investment/the-uae-national-currency', 'https://u.ae/en/information-and-services/finance-and-investment/budget', 'https://u.ae/en/information-and-services/finance-and-investment/raising-complaints-against-financial-institutions-and-insurance-companies', 'https://u.ae/en/about-the-uae/science-and-technology/inspiration-behind-the-advancement/sheikh-mohammed-bin-rashid-al-maktoum-fund-to-finance-innovation', 'https://u.ae/en/information-and-services/finance-and-investment/local-finance-departments', 'https://u.ae/en/information-and-services/finance-and-investment/government-expenditure', 'https://u.ae/en/information-and-services/finance-and-investment/Loans-for-individuals', 'https://u.ae/en/information-and-services/finance-and-investment/banking-in-uae', 'https://u.ae/en/information-and-services/finance-and-investment/financial-markets', 'https://u.ae/en/information-and-services/finance-and-investment/insurance', 'https://u.ae/en/information-and-services/finance-and-investment/investment-schemes', 'https://u.ae/en/information-and-services/finance-and-investment/clearing-the-customs-and-paying-customs-duty', 'https://u.ae/en/information-and-services/business/public-private-people-partnership/pppp/crowdfunding', 'https://u.ae/en/information-and-services/finance-and-investment/government-fees', 'https://u.ae/en/information-and-services/finance-and-investment/pension-and-end-of-service-benefits', 'https://u.ae/en/information-and-services/finance-and-investment/government-financial-statistics', 'https://u.ae/en/information-and-services/finance-and-investment/finance-docs', 'https://u.ae/en/information-and-services/finance-and-investment/faqs-about-finance-and-investment', 'https://u.ae/en/information-and-services/environment-and-energy/cop', 'https://u.ae/en/information-and-services/environment-and-energy/animal-welfare', 'https://u.ae/en/information-and-services/environment-and-energy/environment-and-government-agenda', 'https://u.ae/en/information-and-services/environment-and-energy/green-governments-and-climate-technology', 'https://u.ae/en/information-and-services/environment-and-energy/improving-air-quality', 'https://u.ae/en/information-and-services/environment-and-energy/topography-and-ecosystems', 'https://u.ae/en/information-and-services/environment-and-energy/water-and-energy', 'https://u.ae/en/information-and-services/environment-and-energy/waste-management', 'https://u.ae/en/information-and-services/environment-and-energy/agriculture', 'https://u.ae/en/information-and-services/environment-and-energy/food-security', 'https://u.ae/en/about-the-uae/digital-uae/digital-cities/smart-sustainable-cities', 'https://u.ae/en/information-and-services/environment-and-energy/the-green-economy-initiative', 'https://u.ae/en/information-and-services/environment-and-energy/environmental-spatial-data', 'https://u.ae/en/information-and-services/environment-and-energy/weather-conditions-and-environmental-status', 'https://u.ae/en/information-and-services/environment-and-energy/programmes-and-awards', 'https://u.ae/en/information-and-services/environment-and-energy/environment-budget', 'https://u.ae/en/information-and-services/environment-and-energy/environment-budget-policy-and-laws', 'https://u.ae/en/information-and-services/environment-and-energy/open-government-data-environment-and-energy', 'https://u.ae/en/information-and-services/environment-and-energy/faqs-about-environment-and-energy', 'https://u.ae/en/information-and-services/environment-and-energy/eservices-for-environment', 'https://u.ae/en/information-and-services/housing/housing-authorities-and-programmes', 'https://u.ae/en/information-and-services/housing/public-utilities', 'https://u.ae/en/information-and-services/housing/eservices-for-housing', 'https://u.ae/en/information-and-services/housing/faqs-about-housing', 'https://u.ae/en/information-and-services/health-and-fitness/covid-19-support', 'https://u.ae/en/information-and-services/health-and-fitness/health-authorities', 'https://u.ae/en/information-and-services/health-and-fitness/healthcare-providers', 'https://u.ae/en/information-and-services/health-and-fitness/health-conditions-for-uae-residence-visa', 'https://u.ae/en/information-and-services/health-and-fitness/getting-a-health-insurance', 'https://u.ae/en/information-and-services/health-and-fitness/combatting-communicable-diseases', 'https://u.ae/en/information-and-services/health-and-fitness/mental-health', 'https://u.ae/en/information-and-services/health-and-fitness/telemedicine', 'https://u.ae/en/information-and-services/social-affairs/marriages/marriage-as-per-the-sharia-law/premarital-counselling-and-screening', 'https://u.ae/en/information-and-services/health-and-fitness/woman-reproductive-and-sexual-healthcare', 'https://u.ae/en/information-and-services/health-and-fitness/childrens-health', 'https://u.ae/en/information-and-services/health-and-fitness/health-of-vulnerable-groups', 'https://u.ae/en/information-and-services/health-and-fitness/patients-rights-and-responsibilities', 'https://u.ae/en/information-and-services/passports-and-traveling/travelling-abroad/travelling-abroad-for-medical-treatment', 'https://u.ae/en/information-and-services/health-and-fitness/blood-donation', 'https://u.ae/en/information-and-services/health-and-fitness/organ-donation-and-transplant', 'https://u.ae/en/information-and-services/health-and-fitness/chronic-diseases-and-natural-disorders', 'https://u.ae/en/information-and-services/health-and-fitness/alternative-medicine', 'https://u.ae/en/information-and-services/health-and-fitness/tobacco-provisions', 'https://u.ae/en/information-and-services/health-and-fitness/drugs-and-controlled-medicines', 'https://u.ae/en/information-and-services/visa-and-emirates-id/visit-visas/patient-and-companion-entry-permits', 'https://u.ae/en/information-and-services/health-and-fitness/health-for-hajj', 'https://u.ae/en/information-and-services/justice-safety-and-the-law/handling-emergencies/medical-emergencies', 'https://u.ae/en/information-and-services/health-and-fitness/research-in-the-field-of-health', 'https://u.ae/en/information-and-services/health-and-fitness/education-in-the-field-of-health', 'https://u.ae/en/information-and-services/health-and-fitness/healthcare-budget', 'https://u.ae/en/information-and-services/health-and-fitness/healthy-policy-and-laws', 'https://u.ae/en/information-and-services/health-and-fitness/eservices-for-health', 'https://u.ae/en/information-and-services/health-and-fitness/health-services-and-updates', 'https://u.ae/en/information-and-services/health-and-fitness/faqs-about-health-and-fitness', 'https://u.ae/en/information-and-services/passports-and-traveling/the-emirati-passport', 'https://u.ae/en/information-and-services/passports-and-traveling/emirati-nationality', 'https://u.ae/en/information-and-services/passports-and-traveling/travelling-abroad', 'https://u.ae/en/information-and-services/passports-and-traveling/preliminary-checks', 'https://u.ae/en/information-and-services/passports-and-traveling/travel-services-for-uae-nationals', 'https://u.ae/en/information-and-services/passports-and-traveling/modes-of-travel', 'https://u.ae/en/information-and-services/passports-and-traveling/booking-air-tickets-hotels-and-itineraries', 'https://u.ae/en/information-and-services/passports-and-traveling/customs-regulations', 'https://u.ae/en/information-and-services/passports-and-traveling/foreign-currency', 'https://u.ae/en/information-and-services/passports-and-traveling/mobile-and-internet-services', 'https://u.ae/en/information-and-services/passports-and-traveling/driving-abroad', 'https://u.ae/en/information-and-services/passports-and-traveling/birth-or-death-abroad', 'https://u.ae/en/information-and-services/passports-and-traveling/travelling-to-canada-us-and-uk', 'https://u.ae/en/information-and-services/passports-and-traveling/statistics-and-most-visited-destinations', 'https://u.ae/en/information-and-services/passports-and-traveling/faqs-about-passports-and-travelling', 'https://u.ae/en/information-and-services/public-holidays-and-religious-affairs/public-holidays', 'https://u.ae/en/information-and-services/public-holidays-and-religious-affairs/official-religion-and-religious-affairs-entities', 'https://u.ae/en/information-and-services/public-holidays-and-religious-affairs/ramadan', 'https://u.ae/en/information-and-services/public-holidays-and-religious-affairs/conversion-to-islam', 'https://u.ae/en/information-and-services/public-holidays-and-religious-affairs/other-religions-and-religious-festivals', 'https://u.ae/en/information-and-services/infrastructure/civic-facilities', 'https://u.ae/en/information-and-services/infrastructure/telecommunications', 'https://u.ae/en/information-and-services/infrastructure/mail-services', 'https://u.ae/en/information-and-services/infrastructure/tendering-for-government-construction-projects', 'https://u.ae/en/information-and-services/infrastructure/nothing-is-impossible-hackathon', 'https://u.ae/en/information-and-services/infrastructure/faqs-about-infrastructure', 'https://u.ae/en/information-and-services/social-affairs/society-and-we-the-uae-2031-vision', 'https://u.ae/en/information-and-services/social-affairs/social-welfare', 'https://u.ae/en/information-and-services/social-affairs/gender-equality', 'https://u.ae/en/information-and-services/social-affairs/women', 'https://u.ae/en/information-and-services/social-affairs/youth', 'https://u.ae/en/information-and-services/social-affairs/children', 'https://u.ae/en/information-and-services/social-affairs/senior-emiratis', 'https://u.ae/en/information-and-services/social-affairs/people-of-determination', 'https://u.ae/en/information-and-services/social-affairs/communities-in-focus', 'https://u.ae/en/information-and-services/social-affairs/marriages', 'https://u.ae/en/information-and-services/social-affairs/law-for-personal-affairs', 'https://u.ae/en/information-and-services/social-affairs/having-a-baby', 'https://u.ae/en/information-and-services/social-affairs/divorce-in-the-uae', 'https://u.ae/en/information-and-services/social-affairs/deaths', 'https://u.ae/en/about-the-uae/culture/sports-and-recreation', 'https://u.ae/en/information-and-services/social-affairs/happiness', 'https://u.ae/en/information-and-services/social-affairs/digital-wellbeing', 'https://u.ae/en/information-and-services/social-affairs/policies-and-laws-on-social-welfare', 'https://u.ae/en/information-and-services/social-affairs/social-protection-budget', 'https://u.ae/en/information-and-services/social-affairs/subscribe-to-social-protection-services', 'https://u.ae/en/information-and-services/social-affairs/faqs-about-social-affairs', 'https://u.ae/en/information-and-services/social-affairs/eservices', 'https://u.ae/en/information-and-services/charity-and-humanitarian-work/the-mothers-endowment-campaign', 'https://u.ae/en/information-and-services/charity-and-humanitarian-work/sheikh-khalifas-philanthropic-activities', 'https://u.ae/en/information-and-services/charity-and-humanitarian-work/sheikh-mohammeds-philanthropic-activities', 'https://u.ae/en/information-and-services/charity-and-humanitarian-work/the-uae-aid-to-foreign-countries', 'https://u.ae/en/information-and-services/charity-and-humanitarian-work/ways-of-doing-charity-in-the-uae', 'https://u.ae/en/information-and-services/charity-and-humanitarian-work/volunteering-platforms-and-initiatives', 'https://u.ae/en/information-and-services/charity-and-humanitarian-work/1-billion-meals-endowment', 'https://u.ae/en/information-and-services/charity-and-humanitarian-work/humanitarian-accelerators', 'https://u.ae/en/information-and-services/charity-and-humanitarian-work/humanitarian-logistics-databank', 'https://u.ae/en/about-the-uae/strategies-initiatives-and-awards/awards/Society-and-humanitarian-work/arab-hope-makers', 'https://u.ae/en/information-and-services/education/importance-of-education-to-the-government/literacy-challenge-in-the-arab-world-2030', 'https://u.ae/en/information-and-services/charity-and-humanitarian-work/faqs-about-charity-and-humanitarian-work', 'https://u.ae/en/information-and-services/g2g-services/guidance-and-tutorials-on-eservices', 'https://u.ae/en/information-and-services/g2g-services/open-government-data', 'https://u.ae/en/about-the-uae/digital-uae/digital-transformation/platforms-and-apps/the-uae-pass-app', 'https://u.ae/en/information-and-services/social-affairs/having-a-baby/mabrouk-ma-yak', 'https://u.ae/en/information-and-services/business/important-digital-services/bashr', 'https://u.ae/en/information-and-services/business/important-digital-services/national-economic-register', 'https://u.ae/en/information-and-services/g2g-services/fednet', 'https://u.ae/en/information-and-services/g2g-services/government-services-bus', 'https://u.ae/en/information-and-services/g2g-services/internet-protocol-6', 'https://u.ae/en/information-and-services/g2g-services/measuring-the-digital-government-indices', 'https://u.ae/en/information-and-services/g2g-services/msurvey', 'https://u.ae/en/information-and-services/g2g-services/faqs-about-connected-government']\n",
      "268\n"
     ]
    }
   ],
   "source": [
    "#Dropping duplicates\n",
    "sub_sub_pages = list(dict.fromkeys(sub_sub_pages))\n",
    "print(sub_sub_pages)\n",
    "print(len(sub_sub_pages))"
   ]
  },
  {
   "cell_type": "code",
   "execution_count": 16,
   "metadata": {},
   "outputs": [
    {
     "name": "stdout",
     "output_type": "stream",
     "text": [
      "['https://u.ae/en/information-and-services/top-government-services', 'https://u.ae/en/information-and-services/visa-and-emirates-id', 'https://u.ae/en/information-and-services/jobs', 'https://u.ae/en/information-and-services/education', 'https://u.ae/en/information-and-services/business', 'https://u.ae/en/information-and-services/moving-to-the-uae', 'https://u.ae/en/information-and-services/justice-safety-and-the-law', 'https://u.ae/en/information-and-services/visiting-and-exploring-the-uae', 'https://u.ae/en/information-and-services/transportation', 'https://u.ae/en/information-and-services/finance-and-investment', 'https://u.ae/en/information-and-services/environment-and-energy', 'https://u.ae/en/information-and-services/housing', 'https://u.ae/en/information-and-services/health-and-fitness', 'https://u.ae/en/information-and-services/passports-and-traveling', 'https://u.ae/en/information-and-services/public-holidays-and-religious-affairs', 'https://u.ae/en/information-and-services/infrastructure', 'https://u.ae/en/information-and-services/social-affairs', 'https://u.ae/en/information-and-services/charity-and-humanitarian-work', 'https://u.ae/en/information-and-services/g2g-services', 'https://u.ae/en/information-and-services/services-a-to-z', 'https://u.ae/en/information-and-services/visa-and-emirates-id/do-you-need-an-entry-permit-or-a-visa-to-enter-the-uae', 'https://u.ae/en/information-and-services/visa-and-emirates-id/where-to-apply-for-entry-permits-or-visas', 'https://u.ae/en/information-and-services/visa-and-emirates-id/residence-visas', 'https://u.ae/en/information-and-services/visa-and-emirates-id/visit-visas', 'https://u.ae/en/information-and-services/visa-and-emirates-id/tourist-visa', 'https://u.ae/en/information-and-services/visa-and-emirates-id/transit-visa', 'https://u.ae/en/information-and-services/visa-and-emirates-id/visa-fees', 'https://u.ae/en/information-and-services/visa-and-emirates-id/track-visa-application-and-validity', 'https://u.ae/en/information-and-services/visa-and-emirates-id/emirates-id', 'https://u.ae/en/information-and-services/visa-and-emirates-id/lost-your-passport-with-uae-residence-visa-on-it', 'https://u.ae/en/information-and-services/visa-and-emirates-id/tips-to-avoid-labour-and-visa-fraud', 'https://u.ae/en/information-and-services/visa-and-emirates-id/faqs-about-visa-and-emirates-id', 'https://u.ae/en/information-and-services/jobs/the-work-bundle-initiative', 'https://u.ae/en/information-and-services/jobs/eservices-for-jobs', 'https://u.ae/en/information-and-services/jobs/working-in-uae-government-sector', 'https://u.ae/en/information-and-services/jobs/employment-in-the-private-sector', 'https://u.ae/en/information-and-services/jobs/working-in-free-zones', 'https://u.ae/en/information-and-services/jobs/training-and-development', 'https://u.ae/en/information-and-services/jobs/health-and-safety-at-workplace', 'https://u.ae/en/information-and-services/jobs/insurance', 'https://u.ae/en/information-and-services/jobs/searching-for-a-job', 'https://u.ae/en/information-and-services/jobs/working-for-two-employers-at-one-time', 'https://u.ae/en/information-and-services/jobs/employment-of-people-with-special-needs', 'https://u.ae/en/information-and-services/jobs/employment-and-training-of-minors', 'https://u.ae/en/information-and-services/social-affairs/gender-equality/gender-equality-in-the-workplace', 'https://u.ae/en/information-and-services/jobs/human-resources-budget', 'https://u.ae/en/information-and-services/jobs/subscribe-to-job-services', 'https://u.ae/en/information-and-services/jobs/labour-market-data', 'https://u.ae/en/information-and-services/jobs/faqs-about-jobs', 'https://u.ae/en/information-and-services/education/emsat', 'https://u.ae/en/information-and-services/education/importance-of-education-to-the-government', 'https://u.ae/en/information-and-services/social-affairs/children/early-childhood-development-and-care', 'https://u.ae/en/information-and-services/education/school-education-k-12', 'https://u.ae/en/information-and-services/education/higher-education', 'https://u.ae/en/information-and-services/education/technical-and-vocational-education', 'https://u.ae/en/information-and-services/education/education-for-people-with-special-needs', 'https://u.ae/en/information-and-services/education/lifelong-learning', 'https://u.ae/en/information-and-services/education/online-training', 'https://u.ae/en/information-and-services/education/internships', 'https://u.ae/en/information-and-services/education/teaching-specialists-programme', 'https://u.ae/en/information-and-services/education/licensing-private-educational-institutes', 'https://u.ae/en/information-and-services/education/health-and-safety-in-schools', 'https://u.ae/en/information-and-services/education/education-documents', 'https://u.ae/en/information-and-services/education/education-budget', 'https://u.ae/en/information-and-services/education/subscribe-to-updates-and-alerts-on-education', 'https://u.ae/en/information-and-services/education/eservices-for-education', 'https://u.ae/en/information-and-services/education/faqs-about-education', 'https://u.ae/en/information-and-services/business/the-uae-an-ideal-investment-destination', 'https://u.ae/en/information-and-services/business/doing-business-on-the-mainland', 'https://u.ae/en/information-and-services/business/doing-business-in-free-zones', 'https://u.ae/en/information-and-services/business/obtaining-certificates-and-licences', 'https://u.ae/en/information-and-services/finance-and-investment/foreign-direct-investment', 'https://u.ae/en/information-and-services/business/small-and-medium-enterprises', 'https://u.ae/en/information-and-services/business/ecommerce', 'https://u.ae/en/information-and-services/business/public-private-people-partnership', 'https://u.ae/en/information-and-services/business/regulations', 'https://u.ae/en/information-and-services/finance-and-investment/taxation', 'https://u.ae/en/information-and-services/business/financial-credibility-for-individuals-and-companies', 'https://u.ae/en/about-the-uae/strategies-initiatives-and-awards/strategies-plans-and-visions/business', 'https://u.ae/en/information-and-services/visa-and-emirates-id/visit-visas/visit-visa-to-explore-investment-opportunities', 'https://u.ae/en/information-and-services/visa-and-emirates-id/residence-visas/residence-visa-for-doing-business-in-the-uae', 'https://u.ae/en/information-and-services/business/important-digital-services', 'https://u.ae/en/information-and-services/business/faqs-about-business', 'https://u.ae/en/information-and-services/business/business-incubators', 'https://u.ae/en/about-the-uae/fact-sheet', 'https://u.ae/en/information-and-services/moving-to-the-uae/expatriates-buying-a-property-in-the-uae', 'https://u.ae/en/information-and-services/moving-to-the-uae/leasing-a-property-in-the-uae', 'https://u.ae/en/information-and-services/public-holidays-and-religious-affairs', 'https://u.ae/en/information-and-services/justice-safety-and-the-law/justice-safety-and-we-the-uae-2031-vision', 'https://u.ae/en/information-and-services/justice-safety-and-the-law/justice-and-safety-as-per-the-constitution', 'https://u.ae/en/about-the-uae/human-rights-in-the-uae', 'https://u.ae/en/information-and-services/justice-safety-and-the-law/handling-emergencies', 'https://u.ae/en/about-the-uae/strategies-initiatives-and-awards/strategies-plans-and-visions/social-affairs/national-action-plan-on-women-peace-and-security', 'https://u.ae/en/information-and-services/justice-safety-and-the-law/how-are-uae-laws-issued-and-how-to-find-them', 'https://u.ae/en/information-and-services/justice-safety-and-the-law/litigation-procedures', 'https://u.ae/en/information-and-services/justice-safety-and-the-law/correctional-facilities', 'https://u.ae/en/information-and-services/justice-safety-and-the-law/anti-begging', 'https://u.ae/en/information-and-services/justice-safety-and-the-law/anti-discrimination-laws-and-policies', 'https://u.ae/en/information-and-services/justice-safety-and-the-law/promoting-the-competency-of-the-judicial-system-in-the-uae', 'https://u.ae/en/information-and-services/justice-safety-and-the-law/entities-responsible-for-security-and-safety-in-the-uae', 'https://u.ae/en/information-and-services/justice-safety-and-the-law/armed-forces', 'https://u.ae/en/information-and-services/justice-safety-and-the-law/consumer-protection', 'https://u.ae/en/information-and-services/justice-safety-and-the-law/maintaining-safety-and-security', 'https://u.ae/en/information-and-services/health-and-fitness/food-safety-and-health-tips', 'https://u.ae/en/information-and-services/justice-safety-and-the-law/cyber-safety-and-digital-security', 'https://u.ae/en/information-and-services/justice-safety-and-the-law/road-safety', 'https://u.ae/en/information-and-services/justice-safety-and-the-law/building-safety', 'https://u.ae/en/information-and-services/justice-safety-and-the-law/fire-safety', 'https://u.ae/en/information-and-services/justice-safety-and-the-law/aviation-safety', 'https://u.ae/en/information-and-services/justice-safety-and-the-law/children-safety', 'https://u.ae/en/information-and-services/justice-safety-and-the-law/justice-eservices-and-updates', 'https://u.ae/en/information-and-services/justice-safety-and-the-law/faq-about-justice-safety-and-the-law', 'https://u.ae/en/information-and-services/justice-safety-and-the-law/justice-budget', 'https://u.ae/en/information-and-services/justice-safety-and-the-law/open-data', 'https://u.ae/en/information-and-services/justice-safety-and-the-law/handling-the-covid-19-outbreak', 'https://u.ae/en/information-and-services/visiting-and-exploring-the-uae/uae-an-ideal-tourist-destination', 'https://u.ae/en/information-and-services/visiting-and-exploring-the-uae/how-to-get-to-the-uae', 'https://u.ae/en/information-and-services/visiting-and-exploring-the-uae/where-to-stay-in-the-uae', 'https://u.ae/en/information-and-services/visiting-and-exploring-the-uae/what-to-do-in-the-uae', 'https://u.ae/en/information-and-services/passports-and-traveling/pregnant-women-children-and-infants', 'https://u.ae/en/information-and-services/passports-and-traveling/services-and-facilities-at-the-uae-airports', 'https://u.ae/en/information-and-services/visiting-and-exploring-the-uae/mobile-and-internet-services', 'https://u.ae/en/information-and-services/visiting-and-exploring-the-uae/foreign-currency', 'https://u.ae/en/information-and-services/finance-and-investment/taxation/vat/tax-refund-for-tourists', 'https://u.ae/en/information-and-services/visiting-and-exploring-the-uae/emergency-help-for-tourists-in-the-uae', 'https://u.ae/en/information-and-services/passports-and-traveling/flying-out-of-the-uae', 'https://u.ae/en/information-and-services/visiting-and-exploring-the-uae/open-government-data-tourism-in-the-uae', 'https://u.ae/en/information-and-services/visiting-and-exploring-the-uae/faqs-about-visiting-and-exploring-the-uae', 'https://u.ae/en/information-and-services/transportation/public-transport', 'https://u.ae/en/information-and-services/transportation/roadways', 'https://u.ae/en/information-and-services/transportation/get-a-driving-licence', 'https://u.ae/en/information-and-services/transportation/registering-vehicles-and-fine-inquiry', 'https://u.ae/en/information-and-services/transportation/traffic-fines', 'https://u.ae/en/information-and-services/environment-and-energy/waste-management/hazardous-waste-permits', 'https://u.ae/en/information-and-services/transportation/public-parking', 'https://u.ae/en/information-and-services/social-affairs/people-of-determination/protection-support-and-assistance-of-people-of-determination/accessible-transport-and-parking-facilities', 'https://u.ae/en/information-and-services/transportation/railways', 'https://u.ae/en/information-and-services/transportation/waterways', 'https://u.ae/en/information-and-services/transportation/airways', 'https://u.ae/en/information-and-services/transportation/strategies-and-policies', 'https://u.ae/en/information-and-services/transportation/smart-mobility-solutions', 'https://u.ae/en/information-and-services/transportation/geospatial-data-in-transportation', 'https://u.ae/en/information-and-services/transportation/faqs-about-transportation', 'https://u.ae/en/information-and-services/finance-and-investment/uae-global-credit-rating', 'https://u.ae/en/information-and-services/finance-and-investment/the-uae-national-currency', 'https://u.ae/en/information-and-services/finance-and-investment/budget', 'https://u.ae/en/information-and-services/finance-and-investment/raising-complaints-against-financial-institutions-and-insurance-companies', 'https://u.ae/en/about-the-uae/science-and-technology/inspiration-behind-the-advancement/sheikh-mohammed-bin-rashid-al-maktoum-fund-to-finance-innovation', 'https://u.ae/en/information-and-services/finance-and-investment/local-finance-departments', 'https://u.ae/en/information-and-services/finance-and-investment/government-expenditure', 'https://u.ae/en/information-and-services/finance-and-investment/Loans-for-individuals', 'https://u.ae/en/information-and-services/finance-and-investment/banking-in-uae', 'https://u.ae/en/information-and-services/finance-and-investment/financial-markets', 'https://u.ae/en/information-and-services/finance-and-investment/insurance', 'https://u.ae/en/information-and-services/finance-and-investment/investment-schemes', 'https://u.ae/en/information-and-services/finance-and-investment/clearing-the-customs-and-paying-customs-duty', 'https://u.ae/en/information-and-services/business/public-private-people-partnership/pppp/crowdfunding', 'https://u.ae/en/information-and-services/finance-and-investment/government-fees', 'https://u.ae/en/information-and-services/finance-and-investment/pension-and-end-of-service-benefits', 'https://u.ae/en/information-and-services/finance-and-investment/government-financial-statistics', 'https://u.ae/en/information-and-services/finance-and-investment/finance-docs', 'https://u.ae/en/information-and-services/finance-and-investment/faqs-about-finance-and-investment', 'https://u.ae/en/information-and-services/environment-and-energy/cop', 'https://u.ae/en/information-and-services/environment-and-energy/animal-welfare', 'https://u.ae/en/information-and-services/environment-and-energy/environment-and-government-agenda', 'https://u.ae/en/information-and-services/environment-and-energy/green-governments-and-climate-technology', 'https://u.ae/en/information-and-services/environment-and-energy/improving-air-quality', 'https://u.ae/en/information-and-services/environment-and-energy/topography-and-ecosystems', 'https://u.ae/en/information-and-services/environment-and-energy/water-and-energy', 'https://u.ae/en/information-and-services/environment-and-energy/waste-management', 'https://u.ae/en/information-and-services/environment-and-energy/agriculture', 'https://u.ae/en/information-and-services/environment-and-energy/food-security', 'https://u.ae/en/about-the-uae/digital-uae/digital-cities/smart-sustainable-cities', 'https://u.ae/en/information-and-services/environment-and-energy/the-green-economy-initiative', 'https://u.ae/en/information-and-services/environment-and-energy/environmental-spatial-data', 'https://u.ae/en/information-and-services/environment-and-energy/weather-conditions-and-environmental-status', 'https://u.ae/en/information-and-services/environment-and-energy/programmes-and-awards', 'https://u.ae/en/information-and-services/environment-and-energy/environment-budget', 'https://u.ae/en/information-and-services/environment-and-energy/environment-budget-policy-and-laws', 'https://u.ae/en/information-and-services/environment-and-energy/open-government-data-environment-and-energy', 'https://u.ae/en/information-and-services/environment-and-energy/faqs-about-environment-and-energy', 'https://u.ae/en/information-and-services/environment-and-energy/eservices-for-environment', 'https://u.ae/en/information-and-services/housing/housing-authorities-and-programmes', 'https://u.ae/en/information-and-services/housing/public-utilities', 'https://u.ae/en/information-and-services/housing/eservices-for-housing', 'https://u.ae/en/information-and-services/housing/faqs-about-housing', 'https://u.ae/en/information-and-services/health-and-fitness/covid-19-support', 'https://u.ae/en/information-and-services/health-and-fitness/health-authorities', 'https://u.ae/en/information-and-services/health-and-fitness/healthcare-providers', 'https://u.ae/en/information-and-services/health-and-fitness/health-conditions-for-uae-residence-visa', 'https://u.ae/en/information-and-services/health-and-fitness/getting-a-health-insurance', 'https://u.ae/en/information-and-services/health-and-fitness/combatting-communicable-diseases', 'https://u.ae/en/information-and-services/health-and-fitness/mental-health', 'https://u.ae/en/information-and-services/health-and-fitness/telemedicine', 'https://u.ae/en/information-and-services/social-affairs/marriages/marriage-as-per-the-sharia-law/premarital-counselling-and-screening', 'https://u.ae/en/information-and-services/health-and-fitness/woman-reproductive-and-sexual-healthcare', 'https://u.ae/en/information-and-services/health-and-fitness/childrens-health', 'https://u.ae/en/information-and-services/health-and-fitness/health-of-vulnerable-groups', 'https://u.ae/en/information-and-services/health-and-fitness/patients-rights-and-responsibilities', 'https://u.ae/en/information-and-services/passports-and-traveling/travelling-abroad/travelling-abroad-for-medical-treatment', 'https://u.ae/en/information-and-services/health-and-fitness/blood-donation', 'https://u.ae/en/information-and-services/health-and-fitness/organ-donation-and-transplant', 'https://u.ae/en/information-and-services/health-and-fitness/chronic-diseases-and-natural-disorders', 'https://u.ae/en/information-and-services/health-and-fitness/alternative-medicine', 'https://u.ae/en/information-and-services/health-and-fitness/tobacco-provisions', 'https://u.ae/en/information-and-services/health-and-fitness/drugs-and-controlled-medicines', 'https://u.ae/en/information-and-services/visa-and-emirates-id/visit-visas/patient-and-companion-entry-permits', 'https://u.ae/en/information-and-services/health-and-fitness/health-for-hajj', 'https://u.ae/en/information-and-services/justice-safety-and-the-law/handling-emergencies/medical-emergencies', 'https://u.ae/en/information-and-services/health-and-fitness/research-in-the-field-of-health', 'https://u.ae/en/information-and-services/health-and-fitness/education-in-the-field-of-health', 'https://u.ae/en/information-and-services/health-and-fitness/healthcare-budget', 'https://u.ae/en/information-and-services/health-and-fitness/healthy-policy-and-laws', 'https://u.ae/en/information-and-services/health-and-fitness/eservices-for-health', 'https://u.ae/en/information-and-services/health-and-fitness/health-services-and-updates', 'https://u.ae/en/information-and-services/health-and-fitness/faqs-about-health-and-fitness', 'https://u.ae/en/information-and-services/passports-and-traveling/the-emirati-passport', 'https://u.ae/en/information-and-services/passports-and-traveling/emirati-nationality', 'https://u.ae/en/information-and-services/passports-and-traveling/travelling-abroad', 'https://u.ae/en/information-and-services/passports-and-traveling/preliminary-checks', 'https://u.ae/en/information-and-services/passports-and-traveling/travel-services-for-uae-nationals', 'https://u.ae/en/information-and-services/passports-and-traveling/modes-of-travel', 'https://u.ae/en/information-and-services/passports-and-traveling/booking-air-tickets-hotels-and-itineraries', 'https://u.ae/en/information-and-services/passports-and-traveling/customs-regulations', 'https://u.ae/en/information-and-services/passports-and-traveling/foreign-currency', 'https://u.ae/en/information-and-services/passports-and-traveling/mobile-and-internet-services', 'https://u.ae/en/information-and-services/passports-and-traveling/driving-abroad', 'https://u.ae/en/information-and-services/passports-and-traveling/birth-or-death-abroad', 'https://u.ae/en/information-and-services/passports-and-traveling/travelling-to-canada-us-and-uk', 'https://u.ae/en/information-and-services/passports-and-traveling/statistics-and-most-visited-destinations', 'https://u.ae/en/information-and-services/passports-and-traveling/faqs-about-passports-and-travelling', 'https://u.ae/en/information-and-services/public-holidays-and-religious-affairs/public-holidays', 'https://u.ae/en/information-and-services/public-holidays-and-religious-affairs/official-religion-and-religious-affairs-entities', 'https://u.ae/en/information-and-services/public-holidays-and-religious-affairs/ramadan', 'https://u.ae/en/information-and-services/public-holidays-and-religious-affairs/conversion-to-islam', 'https://u.ae/en/information-and-services/public-holidays-and-religious-affairs/other-religions-and-religious-festivals', 'https://u.ae/en/information-and-services/infrastructure/civic-facilities', 'https://u.ae/en/information-and-services/infrastructure/telecommunications', 'https://u.ae/en/information-and-services/infrastructure/mail-services', 'https://u.ae/en/information-and-services/infrastructure/tendering-for-government-construction-projects', 'https://u.ae/en/information-and-services/infrastructure/nothing-is-impossible-hackathon', 'https://u.ae/en/information-and-services/infrastructure/faqs-about-infrastructure', 'https://u.ae/en/information-and-services/social-affairs/society-and-we-the-uae-2031-vision', 'https://u.ae/en/information-and-services/social-affairs/social-welfare', 'https://u.ae/en/information-and-services/social-affairs/gender-equality', 'https://u.ae/en/information-and-services/social-affairs/women', 'https://u.ae/en/information-and-services/social-affairs/youth', 'https://u.ae/en/information-and-services/social-affairs/children', 'https://u.ae/en/information-and-services/social-affairs/senior-emiratis', 'https://u.ae/en/information-and-services/social-affairs/people-of-determination', 'https://u.ae/en/information-and-services/social-affairs/communities-in-focus', 'https://u.ae/en/information-and-services/social-affairs/marriages', 'https://u.ae/en/information-and-services/social-affairs/law-for-personal-affairs', 'https://u.ae/en/information-and-services/social-affairs/having-a-baby', 'https://u.ae/en/information-and-services/social-affairs/divorce-in-the-uae', 'https://u.ae/en/information-and-services/social-affairs/deaths', 'https://u.ae/en/about-the-uae/culture/sports-and-recreation', 'https://u.ae/en/information-and-services/social-affairs/happiness', 'https://u.ae/en/information-and-services/social-affairs/digital-wellbeing', 'https://u.ae/en/information-and-services/social-affairs/policies-and-laws-on-social-welfare', 'https://u.ae/en/information-and-services/social-affairs/social-protection-budget', 'https://u.ae/en/information-and-services/social-affairs/subscribe-to-social-protection-services', 'https://u.ae/en/information-and-services/social-affairs/faqs-about-social-affairs', 'https://u.ae/en/information-and-services/social-affairs/eservices', 'https://u.ae/en/information-and-services/charity-and-humanitarian-work/the-mothers-endowment-campaign', 'https://u.ae/en/information-and-services/charity-and-humanitarian-work/sheikh-khalifas-philanthropic-activities', 'https://u.ae/en/information-and-services/charity-and-humanitarian-work/sheikh-mohammeds-philanthropic-activities', 'https://u.ae/en/information-and-services/charity-and-humanitarian-work/the-uae-aid-to-foreign-countries', 'https://u.ae/en/information-and-services/charity-and-humanitarian-work/ways-of-doing-charity-in-the-uae', 'https://u.ae/en/information-and-services/charity-and-humanitarian-work/volunteering-platforms-and-initiatives', 'https://u.ae/en/information-and-services/charity-and-humanitarian-work/1-billion-meals-endowment', 'https://u.ae/en/information-and-services/charity-and-humanitarian-work/humanitarian-accelerators', 'https://u.ae/en/information-and-services/charity-and-humanitarian-work/humanitarian-logistics-databank', 'https://u.ae/en/about-the-uae/strategies-initiatives-and-awards/awards/Society-and-humanitarian-work/arab-hope-makers', 'https://u.ae/en/information-and-services/education/importance-of-education-to-the-government/literacy-challenge-in-the-arab-world-2030', 'https://u.ae/en/information-and-services/charity-and-humanitarian-work/faqs-about-charity-and-humanitarian-work', 'https://u.ae/en/information-and-services/g2g-services/guidance-and-tutorials-on-eservices', 'https://u.ae/en/information-and-services/g2g-services/open-government-data', 'https://u.ae/en/about-the-uae/digital-uae/digital-transformation/platforms-and-apps/the-uae-pass-app', 'https://u.ae/en/information-and-services/social-affairs/having-a-baby/mabrouk-ma-yak', 'https://u.ae/en/information-and-services/business/important-digital-services/bashr', 'https://u.ae/en/information-and-services/business/important-digital-services/national-economic-register', 'https://u.ae/en/information-and-services/g2g-services/fednet', 'https://u.ae/en/information-and-services/g2g-services/government-services-bus', 'https://u.ae/en/information-and-services/g2g-services/internet-protocol-6', 'https://u.ae/en/information-and-services/g2g-services/measuring-the-digital-government-indices', 'https://u.ae/en/information-and-services/g2g-services/msurvey', 'https://u.ae/en/information-and-services/g2g-services/faqs-about-connected-government']\n",
      "288\n"
     ]
    }
   ],
   "source": [
    "#Combining all pages\n",
    "all_pages = sub_pages + sub_sub_pages\n",
    "print(all_pages)\n",
    "print(len(all_pages))"
   ]
  },
  {
   "cell_type": "code",
   "execution_count": 17,
   "metadata": {},
   "outputs": [],
   "source": [
    "#Getting content from all pages for vector database\n",
    "content = []\n",
    "for page in all_pages:\n",
    "    soup = BeautifulSoup(requests.get(page).content, \"html.parser\")\n",
    "    content.append(soup.get_text(strip=True, separator=\"\\n\"))"
   ]
  },
  {
   "cell_type": "code",
   "execution_count": 18,
   "metadata": {},
   "outputs": [],
   "source": [
    "#Dropping non english text from content\n",
    "import re\n",
    "content = [re.sub(r'[^\\x00-\\x7F]+',' ', item) for item in content]"
   ]
  },
  {
   "cell_type": "code",
   "execution_count": 19,
   "metadata": {},
   "outputs": [],
   "source": [
    "for i in range(len(content)-1):\n",
    "    if(content[i]==content[i+1]):\n",
    "        print(i)"
   ]
  },
  {
   "cell_type": "code",
   "execution_count": 20,
   "metadata": {},
   "outputs": [
    {
     "data": {
      "text/plain": [
       "Collection(name=UAEgov)"
      ]
     },
     "execution_count": 20,
     "metadata": {},
     "output_type": "execute_result"
    }
   ],
   "source": [
    "import chromadb\n",
    "import pandas as pd\n",
    "\n",
    "chromadb_client = chromadb.PersistentClient(path=\"/Users/lonelyswe/Desktop/WebPWC/vectordb\")\n",
    "\n",
    "chromadb_client.create_collection(\"UAEgov\")\n"
   ]
  },
  {
   "cell_type": "markdown",
   "metadata": {},
   "source": [
    "Classes to check:\n",
    "container page-header-table-summary page-header-style\n",
    "col-md-3"
   ]
  },
  {
   "cell_type": "code",
   "execution_count": 21,
   "metadata": {},
   "outputs": [],
   "source": [
    "#removing duplicate links from all_pages\n",
    "for i in range(len(content)-1):\n",
    "    if(content[i]==content[i+1]):\n",
    "        print(i)"
   ]
  },
  {
   "cell_type": "code",
   "execution_count": 22,
   "metadata": {},
   "outputs": [],
   "source": [
    "collection = chromadb_client.get_collection(\"UAEgov\")"
   ]
  },
  {
   "cell_type": "code",
   "execution_count": 23,
   "metadata": {},
   "outputs": [
    {
     "name": "stderr",
     "output_type": "stream",
     "text": [
      "Add of existing embedding ID: https://u.ae/en/information-and-services/public-holidays-and-religious-affairs\n",
      "Insert of existing embedding ID: https://u.ae/en/information-and-services/public-holidays-and-religious-affairs\n"
     ]
    }
   ],
   "source": [
    "for i in range(len(content)):\n",
    "    collection.add(\n",
    "        documents=[ content[i]],\n",
    "        metadatas = [{\"Source\": \"UAE\"}],\n",
    "        ids=[all_pages[i]]\n",
    "\n",
    "    )"
   ]
  },
  {
   "cell_type": "code",
   "execution_count": 24,
   "metadata": {},
   "outputs": [
    {
     "data": {
      "text/plain": [
       "{'ids': [['https://u.ae/en/information-and-services/g2g-services/faqs-about-connected-government',\n",
       "   'https://u.ae/en/information-and-services/g2g-services/government-services-bus',\n",
       "   'https://u.ae/en/information-and-services/g2g-services/open-government-data',\n",
       "   'https://u.ae/en/information-and-services/top-government-services',\n",
       "   'https://u.ae/en/information-and-services/g2g-services']],\n",
       " 'distances': [[1.2011614415637895,\n",
       "   1.3115331810707211,\n",
       "   1.3502831538654523,\n",
       "   1.353817343711853,\n",
       "   1.3687745332717896]],\n",
       " 'metadatas': [[{'Source': 'UAE'},\n",
       "   {'Source': 'UAE'},\n",
       "   {'Source': 'UAE'},\n",
       "   {'Source': 'UAE'},\n",
       "   {'Source': 'UAE'}]],\n",
       " 'embeddings': None,\n",
       " 'documents': [['FAQs about connected government | The Official Portal of the UAE Government\\n \\n \\nOther languages\\nAccessibility\\nHelp\\nDisclaimer: You are using Google Translate. The UAE mGovernment is not responsible for the accuracy of information in the translated language.\\nPowered by Google\\nHome\\nInformation and services\\nAbout the UAE\\nYour voice\\nMedia\\nUAsk\\nBeta\\nInformation and services\\nConnected government (G2G)\\nFAQs about connected government\\nFAQs about connected government\\nFind answers to frequently asked questions relating to connected government.\\nRead FAQs relating to connected government on:\\nthis portal\\nTelecommunications and Digital Government Regulatory Authority (TRA)\\nUAE Pass\\nMabrouk Ma Yak\\nStart your business (Bashr)\\n.\\nUpdated on 10 Apr 2022\\nWas this information helpful?\\nGive us your feedback so we can improve your experience.\\nThank you for submitting your feedback.\\nYour message\\nResources\\nMap\\nGovernment data\\nAbout this portal\\neNewsletter\\nParticipation\\nDisclaimer\\nCitizen Charter\\nSDGs\\nDigital participation policy\\nAccessibility\\nEnvironment\\nSite map\\nWebsite statistics\\nPortal team\\nFAQs\\n171 Tawasul\\nDigital Government\\nTuesday, 4 Jun 2024\\n3:14 AM (GMT +4)\\nPowered by\\nPrivacy Policy\\nCopyright\\nTerms and conditions\\nWCAG 2.0 AAA standard\\n2024\\r\\n                                U.ae\\nAll rights reserved\\n(success)\\nPopular searches\\nGovernment services around the clock\\nVisa and Emirates ID\\nJobs\\nEducation\\nBusiness\\nMoving to the UAE\\nGovernment services around the clock\\nVisa and Emirates ID\\nJobs\\nEducation\\nBusiness\\nMoving to the UAE\\nHome\\nInformation and services\\nAbout the UAE\\nYour voice\\nMedia\\nUAsk\\nBeta\\n \\nOther languages',\n",
       "   'Government Services Bus (GSB) | The Official Portal of the UAE Government\\n \\n \\nOther languages\\nAccessibility\\nHelp\\nDisclaimer: You are using Google Translate. The UAE mGovernment is not responsible for the accuracy of information in the translated language.\\nPowered by Google\\nHome\\nInformation and services\\nAbout the UAE\\nYour voice\\nMedia\\nUAsk\\nBeta\\nInformation and services\\nConnected government (G2G)\\nGovernment Services Bus (GSB)\\nGovernment Services Bus (GSB)\\nGovernment Services Bus (GSB) is a project under the UAE mGovernment initiative. It aids smooth exchange of data among the government entities. Find out more about GSB.\\nWhat is Government Services Bus (GSB)?\\nBeginning of GSB\\nGSB statistics\\nWhat is Government Services Bus (GSB)?\\nThe Government Services Bus (GSB) project is a part of the UAE mGovernment initiative. GSB helps federal and local entities to exchange data among them smoothly and provide their services in an integrated way. Such system helps the customers get government services without having them to move from one government entity to another.\\nGovernment Services Bus is a part of the FedNet initiative too. It backs the government s effort to establish a comprehensive connection platform and approve the highest standards of cyber security and safety according to the directions of the UAE s visionary leadership. GSB contributes to the improvement of customers  experience and enables government entities to avail data from several sources. Consequently, government services are provided based on the most authenticated and updated sources.\\nThe GSB project comes as a response to the directives of H. H. Sheikh Mohammed bin Rashid Al Maktoum, Vice President and Prime Minister of the UAE and Ruler of Dubai, to connect services, increase quality of applications and raise customer satisfaction during the next stage of mTransformation.\\nThe project provides easy, fast and simple way to get services and enhance the concept of mGovernment. It achieves governmental integration and contributes to the satisfaction and happiness of customers.\\nRead overview on Government Services Bus (GSB).\\nBeginning of GSB\\nGSB started with the commissioning phase with ten entities at the federal level. Entities, which participated in this phase, include:\\nMinistry of Community Development\\nGeneral Pension and Social Security Authority\\nMinistry of Health and Prevention\\nMinistry of Human Resources and Emiratisation\\nMinistry of Interior\\nMinistry of Energy & Infrastructure\\nMinistry of Justice\\nMinistry of Education\\nMinistry of Economy\\nMinistry of Foreign Affairs\\nDuring the trial phase, federal entities implemented the GSB successfully. The project received interest and support of the federal and local government entities. The trial phase included a connection between GSB and Institutional Service Bus established by Abu Dhabi Systems and Information Center. Consequently, Abu Dhabi Retirement Pensions and Benefits Fund could join the project in the trial phase.\\nThe project contributes to the enhancement of government efficiency and service quality. During the commissioning phase, it provided 15 ancillary services to improve 10 main services provided by federal and local entities participating in the trial phase. Efficiency was reflected in saving 57,831 customer visits and 7,460 employee workdays per year (equal to the work of 30 employees per year). These numbers will be doubled after other government entities join the project and enlist their services.\\n8 government entities, including 6 federal entities and 2 local entities had joined GSB by April 2017. 11 services are completely connected to the GSB service.\\nRead more about the\\nGovernment Service Bus\\n(PDF, 150 KB).\\nGSB statistics\\nAbout 144 government and private entities joined GSB for exchange of data and 276 unique services were provided via the GSB platform until mid-2021.\\nCustomers carried out 57.6 million transactions in 2019 and 117.65 million transactions in 2020. There was an increase of 104% in the number of transactions in 2020 as compared to 2019.\\nGSB, via the  \\nMabrouk Ma Yak\\n  service, has contributed to the reduction of carbon emissions by 346,844 kg in 2020. There were 15,054  Mabrouk Ma Yak  service transactions in 2020.\\nUpdated on 27 Sep 2023\\nWas this information helpful?\\nGive us your feedback so we can improve your experience.\\nThank you for submitting your feedback.\\nYour message\\nNext topic\\nInternet Protocol 6.0 (IPV6)\\nPrev topic\\nFederal Network (FedNet)\\nView all services\\nResources\\nMap\\nGovernment data\\nAbout this portal\\neNewsletter\\nParticipation\\nDisclaimer\\nCitizen Charter\\nSDGs\\nDigital participation policy\\nAccessibility\\nEnvironment\\nSite map\\nWebsite statistics\\nPortal team\\nFAQs\\n171 Tawasul\\nDigital Government\\nTuesday, 4 Jun 2024\\n3:14 AM (GMT +4)\\nPowered by\\nPrivacy Policy\\nCopyright\\nTerms and conditions\\nWCAG 2.0 AAA standard\\n2024\\r\\n                                U.ae\\nAll rights reserved\\n(success)\\nPopular searches\\nGovernment services around the clock\\nVisa and Emirates ID\\nJobs\\nEducation\\nBusiness\\nMoving to the UAE\\nGovernment services around the clock\\nVisa and Emirates ID\\nJobs\\nEducation\\nBusiness\\nMoving to the UAE\\nHome\\nInformation and services\\nAbout the UAE\\nYour voice\\nMedia\\nUAsk\\nBeta\\n \\nOther languages',\n",
       "   \"Open government data | The Official Portal of the UAE Government\\n \\n \\nOther languages\\nAccessibility\\nHelp\\nDisclaimer: You are using Google Translate. The UAE mGovernment is not responsible for the accuracy of information in the translated language.\\nPowered by Google\\nHome\\nInformation and services\\nAbout the UAE\\nYour voice\\nMedia\\nUAsk\\nBeta\\nInformation and services\\nConnected government (G2G)\\nOpen government data\\nOpen government data\\nDisclosing government data brings transparency in government transactions and makes them accountable for their actions. It facilitates public scrutiny and evaluation of government performance. Open data helps in the efficient use of resources, designing customised service delivery and creation of more jobs. Read about laws, policies and platforms related to open government data.\\nOpen government data - laws, policies and platforms\\nBenefits of open government data and guidelines\\nOpen government data - laws, policies and platforms\\nThe benefits of open government data can be reaped if it is supported by a legal framework. To support the open government data, the UAE has taken the following steps:\\nLaunched\\ndata protection laws\\nSmart Data Strategy\\n(PDF, 1.72 MB)\\nThe UAE Smart Data framework\\n(PDF, 2.18 MB)\\nthe open data guidelines\\nadopted open data policy; an example can be found on\\nthe website of\\nTelecommunications and Digital Government Regulatory Authority\\nlaunched\\nDubai Data strategy\\n; one of its aim is to optimise use of data for data providers\\npassed the Dubai Data law\\n; one of its aim is data protection and privacy of the individual\\nlaunched\\nDubaiPulse\\n, that will serve as the central platform for providing computing and storage services, core analytic services and big data services\\nlaunched the\\nUAE's data portal - Bayanat\\nto make data open for public use\\nlaunched the\\nAbu Dhabi Data\\nto build the foundational capabilities of the data management agenda across the government of Abu Dhabi\\nlaunched\\nAbu Dhabi Government Data Management Policy\\n(PDF, 1 MB)\\nlaunched\\nAbu Dhabi Government Data Management Standards\\n(PDF, 1 MB)\\nlaunched Ajman Data\\nwhich provides datasets from various government entities in Ajman, to enable all society segments collaborate in pursuing Ajman Vision 2021\\nlaunched\\nUAE SDG Data Hub\\nto monitor and record the country s progress in achieving the SDGs. The Hub includes four main elements. They are:\\nSpatially referenced data - open data on the SDG indicator data on the emirate level can be downloaded in various formats and explored on an interactive map\\nData stories   this section consists of significant data at the national and emirate levels in a story format, engaging us with the topic instantly\\nInitiatives & Surveys   they summarise the SDG-related initiatives in an easy-to-visualize manner with high-level explanation followed by, setting of the goal and the progress so far\\nMedia highlights   these provide access to a library of speeches by the UAE s ministers and footage of events, in video format.\\nFederal Competitiveness and Statistics Centre\\nis the UAE government source for national statistics in all sectors. In addition, all federal entities in the UAE have open data and publications on their portals available to the public.\\nBelow are links to open data available in the following sectors in the UAE:\\nOpen Data for health\\n- Ministry of Health & Prevention\\nOpen Data for education\\n- Ministry of Education\\nOpen Data for government human resources and employment\\n- Federal Authority for Government Human Resources (FAHR)\\nOpen Data for social affairs\\n- Ministry of Community Development\\nOpen Data for labour and private sector establishments\\n- Ministry of Human Resources & Emiratisation\\nOpen Data for finance matters on the website of Ministry of Finance. It includes:\\nFederal budgets\\nGovernment Financial Statistics\\nStatistical Reports on the Gulf Market\\nRead open data policy of Ministry of Finance\\n.\\nOpen Data which relates to environment\\n- Ministry of Climate Change and Environment\\nOpen Data for Justice\\n  Ministry of Justice\\nOpen Data for Telecommunications and Digital Government\\n- Telecommunications and Digital Government Regulatory Authority.\\nBenefits of open government data and guidelines\\nWhat is open government data?\\nGovernment data that is freely available for anyone to use, reuse, distribute or share with others without restrictions is called open government data. As per the\\nUN eGovernment Survey 2018\\n(PDF, 2 MB)\\n, open government data is government information proactively disclosed and made available online for all to access, without restriction.\\nBenefits of open government data\\nDisclosing government data brings transparency in government transactions and makes them accountable for their actions. It facilitates public scrutiny and evaluation of government performance. Open data helps in efficient use of resources, designing customised service delivery and creation of more jobs. It helps people to make informed decisions about public policies and identify development opportunities. Through all its endeavours, open government data helps to achieve the\\nSDGs\\n.\\nA\\ndocument issued by World Bank\\n(PDF, 1.5 MB) estimates the direct, annual economic value of open government data in two different studies as up to 40 billion euros throughout the European Union and close to 2 billion pounds in the UK.\\nIncreasingly many countries have launched an open data portal. In 2014, just 46 countries had an open data portal. However, in 2018, 139 countries had an open data portal as per the UN eGovernment Survey 2018.\\nThe UAE has two data portals:\\nUAE Numbers\\nand\\nBayanat\\n.\\nThe World Bank document brings out the key benefits of open data which are:\\nFostering in economic growth and job creation.\\nOpen data can promote economic growth by helping launch new businesses, create new jobs, increase efficiency in existing organisations and generally improve the climate for foreign investment.\\nImproving efficiency, effectiveness and coverage of public services\\nOpen data can help strengthen healthcare systems by connecting patients to providers, promote education and ongoing learning, and relieve hunger and improve food security on both a large and small scale.\\nIncreasing transparency, accountability and citizen participation\\nOpen data can expose and prevent mismanagement and corruption. It also helps ensure environmental sustainability through transparent data that can help reduce pollution, conserve natural resources, and build resilience to climate change.\\nFacilitating better information sharing within the government\\nOpen data can help improve cities and urban infrastructure. It is key to high-tech smart cities, modern urban planning and the transformation of urban transportation. It can also improve resilience to disasters and ensure that critical resources will be deployed well in emergencies.\\nA picture showing the benefits of open data\\nSource:\\nthe UAE s Ministry of Finance\\nData Change Management Framework\\nThe Dubai Data Change Management Framework provides a practical structure to facilitate transition within the Dubai government. Through a change plan guide, the Dubai Data Manual and supportive toolkits, the Change Management Framework will enable the growth of an effective and sustainable open and shared data culture.\\nOpen Data Guidelines\\nThe purpose of\\nOpen Data Guidelines\\nis to guide the governmental bodies (ministries, agencies, Councils, etc.) what they are required to adhere to when they follow the Open data policy on their website. The scope of this document is limited to the websites of government agencies in the United Arab Emirates. As the document is open for continuous development, its scope can be expanded as dictated by the public policy of the Government of the United Arab Emirates and related instructions.\\nRelated links\\nUAE federal open data licence\\n(PDF, 500 KB)\\nUAE Smart Data Classifications\\n(PDF, 500 KB)\\nUAE Smart Data Framework\\n(PDF, 500 KB)\\nUAE Smart Data Principles\\n(PDF, 500 KB)\\nUpdated on 30 Jan 2024\\nWas this information helpful?\\nGive us your feedback so we can improve your experience.\\nThank you for submitting your feedback.\\nYour message\\nResources\\nMap\\nGovernment data\\nAbout this portal\\neNewsletter\\nParticipation\\nDisclaimer\\nCitizen Charter\\nSDGs\\nDigital participation policy\\nAccessibility\\nEnvironment\\nSite map\\nWebsite statistics\\nPortal team\\nFAQs\\n171 Tawasul\\nDigital Government\\nTuesday, 4 Jun 2024\\n3:13 AM (GMT +4)\\nPowered by\\nPrivacy Policy\\nCopyright\\nTerms and conditions\\nWCAG 2.0 AAA standard\\n2024\\r\\n                                U.ae\\nAll rights reserved\\n(success)\\nPopular searches\\nGovernment services around the clock\\nVisa and Emirates ID\\nJobs\\nEducation\\nBusiness\\nMoving to the UAE\\nGovernment services around the clock\\nVisa and Emirates ID\\nJobs\\nEducation\\nBusiness\\nMoving to the UAE\\nHome\\nInformation and services\\nAbout the UAE\\nYour voice\\nMedia\\nUAsk\\nBeta\\n \\nOther languages\",\n",
       "   'top-government-services | The Official Portal of the UAE Government\\n \\n \\nOther languages\\nAccessibility\\nHelp\\nDisclaimer: You are using Google Translate. The UAE mGovernment is not responsible for the accuracy of information in the translated language.\\nPowered by Google\\nHome\\nInformation and services\\nAbout the UAE\\nYour voice\\nMedia\\nUAsk\\nBeta\\nInformation and services\\ntop-government-services\\nGovernment services around the clock\\nAccess key digital services offered by federal\\r\\n\\r\\n                    entities across diverse sectors, including business,\\r\\n\\r\\n                    education, community affairs, labour, pension,\\r\\n\\r\\n                    health, safety, justice and more. Our services are\\r\\n\\r\\n                    available 24/7, wherever you are.\\r\\n                    Additionally, download our mobile applications\\r\\n\\r\\n                    to ensure your needs are met even when you are\\r\\n\\r\\n                    on the go.\\nNational Call Center  - Tawasul 171\\n171\\n047771777\\nProviding Entities\\nEntity Services\\nService Categories\\nMinistry of Interior\\nMinistry of Foreign Affairs\\nMinistry of Human Resources and Emiratisation\\nFederal Authority for Identity, Citizenship, Customs and Port Security\\nMinistry of Community Development\\nGeneral Pension and Social Security Authority\\nMinistry of Health and Prevention\\nEmirates Health Services\\nMinistry of Education\\nEmirates Schools Establishment\\nMinistry of Justice\\nMinistry of Energy and Infrastructure\\nMinistry of Economy\\nMinistry of Climate Change and Environment\\nTelecommunication and Digital Government Regulatory Authority\\nZakat Fund\\nEtihad Water and Electricity\\nEmirates Post Group\\nMinistry of Finance\\nCentral Bank of the U.A.E\\nSecurities and Commodities Authority\\nMinistry of Culture and Youth\\nMinistry of Industry and Advanced Technology\\nFederal Authority for Government Human Resources\\nFilter by entity:\\nEntities\\nAll\\nMinistry of Interior\\nMinistry of Foreign Affairs\\nMinistry of Human Resources and Emiratisation\\nFederal Authority for Identity, Citizenship, Customs and Port Security\\nMinistry of Community Development\\nGeneral Pension and Social Security Authority\\nMinistry of Health and Prevention\\nEmirates Health Services\\nMinistry of Education\\nEmirates Schools Establishment\\nMinistry of Justice\\nMinistry of Energy and Infrastructure\\nMinistry of Economy\\nMinistry of Climate Change and Environment\\nTelecommunication and Digital Government Regulatory Authority\\nZakat Fund\\nEtihad Water and Electricity\\nEmirates Post Group\\nMinistry of Finance\\nCentral Bank of the UAE\\nSecurities and Commodities Authority\\nMinistry of Culture and Youth\\nMinistry of Industry and Advanced Technology\\nFederal Authority for Government Human Resources\\nFederal Authority for Nuclear Regulation\\nIssue Diplomatic Cards\\nMinistry of Foreign Affairs\\nIssue Diplomatic, Special or Mission Passport\\nMinistry of Foreign Affairs\\nAttest Official Documents and Certificates\\nMinistry of Foreign Affairs\\nTwajudi\\nMinistry of Foreign Affairs\\nIssue Return Document\\nMinistry of Foreign Affairs\\nIssue Traffic Clearance Certificate\\nMinistry of Interior\\nRenew Vehicle Driving Licence\\nMinistry of Interior\\nReplace Driving Licence Issued by Another Country\\nMinistry of Interior\\nOpen Traffic File\\nMinistry of Interior\\nIssuance of a Vehicle Registration\\nMinistry of Interior\\nHassantuk\\nMinistry of Interior\\nPolice Clearance Certificate\\nMinistry of Interior\\nMinor Traffic Accident Preview Report\\nMinistry of Interior\\n\\'To Whom It May Concern\\' Certificate   Civil Defence\\nMinistry of Interior\\nPay Traffic Fines\\nMinistry of Interior\\nFile Criminal Report\\nMinistry of Interior\\nRegister Labour Complaints\\nMinistry of Human Resources and Emiratisation\\nRegister Domestic Worker Complaint\\nMinistry of Human Resources and Emiratisation\\nRequest a Quota of Work Permits for Establishments\\nMinistry of Human Resources and Emiratisation\\nIssue New Work Permit\\nMinistry of Human Resources and Emiratisation\\nIssue Domestic Worker Contract\\nMinistry of Human Resources and Emiratisation\\nIssue Domestic Worker Work Permit\\nMinistry of Human Resources and Emiratisation\\nRenew Domestic Worker Contract\\nMinistry of Human Resources and Emiratisation\\nCancel Domestic Worker Contract\\nMinistry of Human Resources and Emiratisation\\nIssue Passport\\nFederal Authority for Identity, Citizenship, Customs and Port Security\\nRenew Passport\\nFederal Authority for Identity, Citizenship, Customs and Port Security\\nApply for a new ID card\\nFederal Authority for Identity, Citizenship, Customs and Port Security\\nRenew ID Card\\nFederal Authority for Identity, Citizenship, Customs and Port Security\\nIssue Entry Permit\\nFederal Authority for Identity, Citizenship, Customs and Port Security\\nIssue Residency for Employee\\nFederal Authority for Identity, Citizenship, Customs and Port Security\\nRenew Residency Permits\\nFederal Authority for Identity, Citizenship, Customs and Port Security\\nIssue Family Book\\nFederal Authority for Identity, Citizenship, Customs and Port Security\\nAmend Family Book Details\\nFederal Authority for Identity, Citizenship, Customs and Port Security\\nIssue license to conduct regulated activities with regulated materials or regulated items\\nFederal Authority for Nuclear Regulation\\nAmend license to conduct regulated activities with regulated materials or regulated items\\nFederal Authority for Nuclear Regulation\\nRenew license to conduct regulated activities with regulated materials or regulated items\\nFederal Authority for Nuclear Regulation\\nSurrender license to conduct regulated activities with regulated materials or regulated items\\nFederal Authority for Nuclear Regulation\\nIssue import permit for radiation sources and nuclear materials\\nFederal Authority for Nuclear Regulation\\nIssue export permit for radiation sources and nuclear materials\\nFederal Authority for Nuclear Regulation\\nIssue statement for customs\\nFederal Authority for Nuclear Regulation\\nIssue Calibration Certificate\\nFederal Authority for Nuclear Regulation\\nIssue Irradiation Certificate\\nFederal Authority for Nuclear Regulation\\nIssue registration certificate to conduct regulated activities with regulated materials or regulated items\\nFederal Authority for Nuclear Regulation\\nAmend registration certificate to conduct regulated activities with regulated materials or regulated items\\nFederal Authority for Nuclear Regulation\\nSurrender registration certificate to conduct regulated activities with regulated materials or regulated items\\nFederal Authority for Nuclear Regulation\\nIssuing the license of rehabilitation and care center of People of Determination for non-governmental organizations\\nMinistry of Community Development\\nRenewing license for non-governmental Care and Rehabilitation Centers for People of Determination\\nMinistry of Community Development\\nRegistration in the center of care and rehabilitation of People of Determination\\nMinistry of Community Development\\nRegistration in early intervention center/ unit\\nMinistry of Community Development\\nRecruitment Platform for People of Determination (Disabled) for Entities and Individuals\\nMinistry of Community Development\\nRequesting Sign Language service\\nMinistry of Community Development\\nRequest For POD Formal Letters\\nMinistry of Community Development\\nRequest a replacement of Damaged or Lost Card\\nMinistry of Community Development\\nRequest for adopting child\\nMinistry of Community Development\\nReporting an Abuse\\nMinistry of Community Development\\nMarriage Grant application\\nMinistry of Community Development\\nApply to Participate in Mass Wedding\\nMinistry of Community Development\\nIssue  To Whom It May Concern  Certificate (Marriage Grants)\\nMinistry of Community Development\\nApplication for the membership card of Emirati Businesses from the Community\\nMinistry of Community Development\\nFamily Counseling\\nMinistry of Community Development\\n  Issue To Whom It May Concern for Private Associations and Institutions of Public Interest and Social Solidarity Funds\\nMinistry of Community Development\\nIssue \\'To Whom It May Concern\\' Certificate\\nGeneral Pension and Social Security Authority\\nUpdate Insured Details\\nGeneral Pension and Social Security Authority\\nAddition of Previous Service\\nGeneral Pension and Social Security Authority\\nRegistration of UAE National Employees Working in GCC Countries\\nGeneral Pension and Social Security Authority\\nRegistration of Insured in Governmental or Private Sector\\nGeneral Pension and Social Security Authority\\nEnd-of-service gratuity and pension calculation\\nGeneral Pension and Social Security Authority\\nDisbursement of Social Security Benefits\\nGeneral Pension and Social Security Authority\\nIssue of Birth Certificate\\nMinistry of Health and Prevention\\nIssue of Death Certificate\\nMinistry of Health and Prevention\\nApproval of Medical Reports\\nMinistry of Health and Prevention\\nAttestation of Medical Leaves and Reports\\nMinistry of Health and Prevention\\nHealth Professional Evaluation\\nMinistry of Health and Prevention\\nAccreditation of Medical Committee for Request for Retirement or Medical Disability\\nMinistry of Health and Prevention\\nRequest \"To Whom it may Concern\" Certificate for Patient and Companion\\nMinistry of Health and Prevention\\nSubmit Complaints about Private Health Facilities & Medical Staff\\nMinistry of Health and Prevention\\nExamination of Medical Fitness for Residency Visa\\nEmirates Health Services\\nIssue of a Health Card\\nEmirates Health Services\\nIssue of a Health Card for people of determination\\nEmirates Health Services\\nMobile Healthcare\\nEmirates Health Services\\nPre-Employment Fitness Screening\\nEmirates Health Services\\nPremarital Counseling and Screening\\nEmirates Health Services\\nPre-University Fitness Screening\\nEmirates Health Services\\nRenew of a Health Card\\nEmirates Health Services\\nRequest for a Medical Report\\nEmirates Health Services\\nBook a Medical Appointment\\nEmirates Health Services\\nSubmit Medical Complaints\\nEmirates Health Services\\nApply for Scholarships\\nMinistry of Education\\nRequest for EmSAT test Registration\\nMinistry of Education\\nApplication for Registration in higher education institutions in the UAE and scholarships to study abroad for the current Grade 12 students\\nMinistry of Education\\nRequest for attestation of academic and professional university qualifications issued from within the country\\nMinistry of Education\\nInquiry on study program outside the UAE (IFADA)\\nMinistry of Education\\nEquivalency of a General Education certificate within the UAE (Grade 12) Request\\nMinistry of Education\\nUniversity qualification equivalency request - higher education outside the UAE\\nMinistry of Education\\nApplication for registration and admission of a student to a public school\\nEmirates Schools Establishment\\nApplication for registration in home study\\nEmirates Schools Establishment\\nRequest for Issuance of a To Whom It May Concern Certificate - Student\\'s Academic Sequence in Governmental School\\nEmirates Schools Establishment\\nRequest to modify data of a previous student\\nEmirates Schools Establishment\\nRequest to issue a study continuity certificate for a public school student\\nEmirates Schools Establishment\\nIssuance and attestation of school certificate\\nEmirates Schools Establishment\\nRequest to issue a certificate of leaving studies in a public school\\nEmirates Schools Establishment\\nVerifying certificate authenticity\\nEmirates Schools Establishment\\nStudent transfer request\\nEmirates Schools Establishment\\nSuggestion\\nEmirates Schools Establishment\\nInquiry\\nEmirates Schools Establishment\\nComments\\nEmirates Schools Establishment\\nApply for \\'To Whom It May Concern\\' Certificate in Public Prosecution\\nMinistry of Justice\\nRegistration of Order of Payment\\nMinistry of Justice\\nRegistration of Cases Before Federal Courts of Appeal\\nMinistry of Justice\\nRegistration of Cases Before Federal Courts of First Instance\\nMinistry of Justice\\nRegistration of Disputes Before Alternative Litigation Systems\\nMinistry of Justice\\nRegistration of Execution File\\nMinistry of Justice\\nRequest Marriage Contract\\nMinistry of Justice\\nRequest Value Estimate of Accident Damage\\nMinistry of Energy and Infrastructure\\nRequest of Individual Housing Initial Handover\\nMinistry of Energy and Infrastructure\\nHousing assistance loan exemption Request\\nMinistry of Energy and Infrastructure\\nRequest for renewal / Re-issuance of navigation License for National / Foreign commercial ship\\nMinistry of Energy and Infrastructure\\nCancellation request for foreign pleasure boat license\\nMinistry of Energy and Infrastructure\\nRequest permission to sail out of the territorial waters for visiting foreign vessels\\nMinistry of Energy and Infrastructure\\nApply for Certificate of Competency (CoC)\\nMinistry of Energy and Infrastructure\\nRequest to issue registration license for a national and foreign pleasure boat\\nMinistry of Energy and Infrastructure\\nRequest for small boat driving license\\nMinistry of Energy and Infrastructure\\nApply for renew of Seafarer\\'s license\\nMinistry of Energy and Infrastructure\\nRequest to issue To Whom It May Concern Certificate for Housing Services\\nMinistry of Energy and Infrastructure\\nRenewal of a national transportation vehicle permit\\nMinistry of Energy and Infrastructure\\nCancelation/cross off a national transportation vehicle permit\\nMinistry of Energy and Infrastructure\\nIssuing a national transportation vehicle permit\\nMinistry of Energy and Infrastructure\\nHousing Assistance Request\\nMinistry of Energy and Infrastructure\\nRequest to update housing assistance data\\nMinistry of Energy and Infrastructure\\nApply for Seafare\\'s license\\nMinistry of Energy and Infrastructure\\nReconsideration For Housing Assistance Decision Request\\nMinistry of Energy and Infrastructure\\nCancelation of Seafarer\\'s license\\nMinistry of Energy and Infrastructure\\nRequest to renew the permanent operating license for national establishments - Branch\\nMinistry of Energy and Infrastructure\\nPostponing Or Reducing Housing Assistance Instalment Request\\nMinistry of Energy and Infrastructure\\nRequest A Certificate Of Origin\\nMinistry of Economy\\nResolve Consumers Complaints\\nMinistry of Economy\\nRegister Trademark\\nMinistry of Economy\\nRenew Registration of Trademark\\nMinistry of Economy\\nRenew Registration of Commercial Agency\\nMinistry of Economy\\nRequest Agricultural Guidance\\nMinistry of Climate Change and Environment\\nRequest Support Materials for Farmers\\nMinistry of Climate Change and Environment\\nRequest Support Materials for Fishermen\\nMinistry of Climate Change and Environment\\nSubmit Complaint about Telecom Providers\\nTelecommunication and Digital Government Regulatory Authority\\nFatwa Request and Zakat calculation Service\\nZakat Fund\\nZakat Payment\\nZakat Fund\\nRequst Senior benefactors Service\\nZakat Fund\\nRequest Relief Service\\nZakat Fund\\nFollow up Zakat Request Service (Folow Up,To Whom it may Concern Certificate)\\nZakat Fund\\nRequest Zakat (New / Renew / Urgent / Mutaeafifin)\\nZakat Fund\\nService Activation\\nEtihad Water and Electricity\\nElectricity Water Emergency Service\\nEtihad Water and Electricity\\nLand Clearance Certificate Electricity\\nEtihad Water and Electricity\\nLand Clearance Certificate Water\\nEtihad Water and Electricity\\nElectricity Technical Drawings Approval\\nEtihad Water and Electricity\\nWater Technical Drawings Approval\\nEtihad Water and Electricity\\nPay Water & Electricity Bills\\nEtihad Water and Electricity\\nApplication for Clearance Certificate\\nEtihad Water and Electricity\\nRequest NOC (Electricity)\\nEtihad Water and Electricity\\nRenew P.O.Box\\nEmirates Post Group\\nRent P.O.BOX - Corporate\\nEmirates Post Group\\nRent P.O.BOX - Individual\\nEmirates Post Group\\nSend Shipment\\nEmirates Post Group\\nIssue Courier License\\nEmirates Post Group\\nTrack a Shipment\\nEmirates Post Group\\nInquiries about the Ministry\\'s services\\nMinistry of Finance\\nSubmit a complaint against licensed financial institution\\nCentral Bank of the UAE\\nInquire about insurance complaints and disputes\\nCentral Bank of the UAE\\nSubmit insurance related complaint\\nCentral Bank of the UAE\\nEscalation of the complaint to the Insurance Disputes Committee\\nCentral Bank of the UAE\\nSubmit inquiry in the financial field\\nCentral Bank of the UAE\\nProvide Resolutions of Complaints in Securities Trading\\nSecurities and Commodities Authority\\nSettle Securities Trading Disputes\\nSecurities and Commodities Authority\\nFinancial activity licenses\\nSecurities and Commodities Authority\\nForeign investment fund registration\\nSecurities and Commodities Authority\\nRegister Sites Archaeological & Artefacts\\nMinistry of Culture and Youth\\nRegulate Entry of Media Materials through state Ports\\nMinistry of Culture and Youth\\nRegister Borrowed Cultural Objects\\nMinistry of Culture and Youth\\nIssue International Standard Book Number (ISBN)\\nMinistry of Culture and Youth\\nPublications Printing\\nMinistry of Culture and Youth\\nLibrary Membership\\nMinistry of Culture and Youth\\nRent MCKD Theatres, Halls & Areas\\nMinistry of Culture and Youth\\nBorrowing Library Items\\nMinistry of Culture and Youth\\nExtended Borrowing Library Items\\nMinistry of Culture and Youth\\nIssue Certificate of Conformity (ECAS)\\nMinistry of Industry and Advanced Technology\\nNotification of Conformity Assessment Bodies\\nMinistry of Industry and Advanced Technology\\nOrganizational Structures Review and Approval Request\\nFederal Authority for Government Human Resources\\nJob Descriptions Review\\nFederal Authority for Government Human Resources\\nAwareness and Training\\nFederal Authority for Government Human Resources\\nPreferred Partners Training  Maaref \\nFederal Authority for Government Human Resources\\nSharing Knowledge of HR\\nFederal Authority for Government Human Resources\\nGovernment Skills Bank\\nFederal Authority for Government Human Resources\\nLegal Advice\\nFederal Authority for Government Human Resources\\nSupporting customers in using Bayanati Systems\\nFederal Authority for Government Human Resources\\nCommunity Services\\nVehicle Services\\nInvestor Services\\nLabour Services\\nStudent Services\\nRetiree Services\\nPersonal Documents Services\\nHousing Services\\nHealth Services\\nRegistration of Seniors Citizens in Home Care Request\\nCommunity Services\\nSocial Aid Request\\nCommunity Services\\nIssuance of Driving Licence\\nVehicle Services\\nIssuance of Vehicle Registeration\\nVehicle Services\\nRegistration of Commercial Agency\\nInvestor Services\\nCustomer Complain Solution\\nInvestor Services\\nRegistration of Copyright Works\\nInvestor Services\\nIssuance of New Work Permit\\nLabour Services\\nRenewal and Issuance of ID\\nLabour Services\\nMedical Tests\\nLabour Services\\nCompany Works Permits Quota Request\\nLabour Services\\nUniversity Qualifications Equivalency Request\\nStudent Services\\nUniversity Certificate Equivalency Request\\nStudent Services\\nScholarship Request\\nStudent Services\\n\\'Issuance of\\' To Whom It May Concern Letter Request\\nRetiree Services\\nRetiree and Beneficiary Data Update\\nRetiree Services\\nAddition of Previous Service Period\\nRetiree Services\\nPassport\\nPersonal Documents Services\\nID\\nPersonal Documents Services\\nOrder New Residential Support\\nHousing Services\\nOpen File For Housing Assistance\\nHousing Services\\nGovernment House Ownership Request\\nHousing Services\\nInitial Delivery Request\\nHousing Services\\nIssuance of Birth Certificate\\nHealth Services\\nMobile Home Care\\nHealth Services\\nUniversity Students Tests\\nHealth Services\\nEmergency contacts\\nPolice\\n999\\nAmbulance\\n998\\nCivil defence\\n997\\nElectricity authority\\n991\\nHandling emergencies\\nNeed help?\\nIf you need help, kindly contact:\\nPortal team\\nGovernment entities\\nGovernment officials\\n171 Tawasul\\nFAQs\\nResources\\nMap\\nGovernment data\\nAbout this portal\\neNewsletter\\nParticipation\\nDisclaimer\\nCitizen Charter\\nSDGs\\nDigital participation policy\\nAccessibility\\nEnvironment\\nSite map\\nWebsite statistics\\nPortal team\\nFAQs\\n171 Tawasul\\nDigital Government\\nTuesday, 4 Jun 2024\\n2:58 AM (GMT +4)\\nPowered by\\nPrivacy Policy\\nCopyright\\nTerms and conditions\\nWCAG 2.0 AAA standard\\n2024\\r\\n                                U.ae\\nAll rights reserved\\n(success)\\nPopular searches\\nGovernment services around the clock\\nVisa and Emirates ID\\nJobs\\nEducation\\nBusiness\\nMoving to the UAE\\nGovernment services around the clock\\nVisa and Emirates ID\\nJobs\\nEducation\\nBusiness\\nMoving to the UAE\\nHome\\nInformation and services\\nAbout the UAE\\nYour voice\\nMedia\\nUAsk\\nBeta\\n \\nOther languages',\n",
       "   'Connected government (G2G) | The Official Portal of the UAE Government\\n \\n \\nOther languages\\nAccessibility\\nHelp\\nDisclaimer: You are using Google Translate. The UAE mGovernment is not responsible for the accuracy of information in the translated language.\\nPowered by Google\\nHome\\nInformation and services\\nAbout the UAE\\nYour voice\\nMedia\\nUAsk\\nBeta\\nConnected government (G2G)\\nFedNet, Government Service Bus, SmartPass, mSurvey and more\\nInformation and services\\nConnected government (G2G)\\nGuidance and tutorials on eServices\\nOpen government data\\nThe UAE Pass app\\nMabrouk Ma Yak\\nBasher (Doing business in 15 minutes)\\nNational Economic Register\\nFederal Network (FedNet)\\nGovernment Services Bus (GSB)\\nInternet Protocol 6.0 (IPV6)\\nMeasuring the digital government services, eParticipation and open data\\nmSurvey\\nFAQs about connected government\\nEmergency contacts\\nPolice\\n999\\nAmbulance\\n998\\nCivil defence\\n997\\nElectricity authority\\n991\\nHandling emergencies\\nNeed help?\\nIf you need help, kindly contact:\\nPortal team\\nGovernment entities\\nGovernment officials\\n171 Tawasul\\nFAQs\\nResources\\nMap\\nGovernment data\\nAbout this portal\\neNewsletter\\nParticipation\\nDisclaimer\\nCitizen Charter\\nSDGs\\nDigital participation policy\\nAccessibility\\nEnvironment\\nSite map\\nWebsite statistics\\nPortal team\\nFAQs\\n171 Tawasul\\nDigital Government\\nTuesday, 4 Jun 2024\\n2:59 AM (GMT +4)\\nPowered by\\nPrivacy Policy\\nCopyright\\nTerms and conditions\\nWCAG 2.0 AAA standard\\n2024\\r\\n                                U.ae\\nAll rights reserved\\n(success)\\nPopular searches\\nGovernment services around the clock\\nVisa and Emirates ID\\nJobs\\nEducation\\nBusiness\\nMoving to the UAE\\nGovernment services around the clock\\nVisa and Emirates ID\\nJobs\\nEducation\\nBusiness\\nMoving to the UAE\\nHome\\nInformation and services\\nAbout the UAE\\nYour voice\\nMedia\\nUAsk\\nBeta\\n \\nOther languages']],\n",
       " 'uris': None,\n",
       " 'data': None}"
      ]
     },
     "execution_count": 24,
     "metadata": {},
     "output_type": "execute_result"
    }
   ],
   "source": [
    "results = collection.query(\n",
    "    query_texts = [\"Government\"],\n",
    "    n_results = 5\n",
    ")\n",
    "results"
   ]
  },
  {
   "cell_type": "code",
   "execution_count": 41,
   "metadata": {},
   "outputs": [
    {
     "name": "stdout",
     "output_type": "stream",
     "text": [
      "Guidance and tutorials on eServices | The Official Portal of the UAE Government\n",
      " \n",
      " \n",
      "Other languages\n",
      "Accessibility\n",
      "Help\n",
      "Disclaimer: You are using Google Translate. The UAE mGovernment is not responsible for the accuracy of information in the translated language.\n",
      "Powered by Google\n",
      "Home\n",
      "Information and services\n",
      "About the UAE\n",
      "Your voice\n",
      "Media\n",
      "UAsk\n",
      "Beta\n",
      "Information and services\n",
      "Connected government (G2G)\n",
      "Guidance and tutorials on eServices\n",
      "Guidance and tutorials on eServices\n",
      "Government websites in the UAE provide help and tutorials on how to use eServices through service cards, interactive pages and videos.\n",
      "How to access eServices?\n",
      "Find digital services of the key sectors\n",
      "171Tawasul, customer relationship management platform\n",
      "Live support about public services\n",
      "Get help\n",
      "How to access eServices?\n",
      "The UAE offers a host of\n",
      "online services\n",
      "that cater to the people s needs in all sectors. Online services on government websites are attached with service cards that provide guidance and steps on how to access and complete the service. In addition, they include information about the service terms and conditions, fees, required documents and time taken for completion. Check the below eService from the Ministry of Human Resources and Emiratisation.\n",
      "Issue a new work permit\n",
      "Check this tutorial about the service and how it is done.\n",
      "Check also this\n",
      "eService card on the website of Ministry of Interior\n",
      ".\n",
      "Before you start any service, you are advised to read the service card and know all the requirements of the service ahead. Remember that staring a service requires you to log in to the site using\n",
      "UAE Pass\n",
      ", if you are already registered. If you are not registered, you need to create an account.\n",
      "Find digital services of the key sectors\n",
      "Below are links to eServices available in the following sectors:\n",
      "eServices for ICT\n",
      "-\n",
      "Telecommunications and Digital Government Regulatory Authority\n",
      "eServices for health\n",
      "- Ministry of Health and Prevention\n",
      "eServices for education\n",
      "- Ministry of Education\n",
      "eServices for social affairs\n",
      "- Ministry of Community Development\n",
      "eServices for labour issues\n",
      "- Ministry of Human Resources & Emiratisation\n",
      "eServices for human resources in federal government\n",
      "(PDF, 450 KB)\n",
      "- Federal Authority for Government Human Resources\n",
      "eServices for finance matters\n",
      "- Ministry of Finance\n",
      "eServices for business matters\n",
      "- Ministry of Economy\n",
      "eServices for tax matters\n",
      "- Federal Tax Authority\n",
      "eServices which relate to the environment\n",
      "- Ministry of Climate Change and Environment\n",
      "eServices for energy and infrastructure\n",
      "- Ministry of Energy and Infrastructure\n",
      "eServices related to traffic and licensing\n",
      "- Ministry of Interior\n",
      "eServices related to civil defence\n",
      "- Ministry of Interior\n",
      "eServices related to crime and security\n",
      "- Ministry of Interior\n",
      "eServices related to punitive and reformatory\n",
      "- Ministry of Interior\n",
      "eServices related to visa matters\n",
      "- Federal Authority for Identity, Citizenship, Customs & Port Security\n",
      "eServices related to UAE citizens abroad\n",
      "- Ministry of Foreign Affairs.\n",
      "171Tawasul, customer relationship management platform\n",
      "171Tawasul is the UAE Government's customer relationship management (CRM) platform, serving as a unified national platform for receiving all our customers  queries, suggestions and complaints. This platform collects customer opinions and manages customer relations relating to\n",
      "federal government services\n",
      ", efficiently.\n",
      "Customers can use the CRM to file a complaint, share feedback, ask questions or report issues relating to the eServices of the federal government.\n",
      "Channels of the UAE s CRM\n",
      "171Tawasul uses the following channels to connect with the customers:\n",
      "1.\n",
      "The 171\n",
      "Tawasul website\n",
      "Through\n",
      "the website of 171Tawasul\n",
      ", customers can track the status of their requests conveniently and access the responses provided by the federal entities.\n",
      "2.\n",
      "The national call centre-171\n",
      "171, is the number for the national call centre of Tawasul. The call centre receives calls from the customers and integrates them into the national system for managing customer relations, ensuring that relevant entities can address them effectively.\n",
      "The national call centre 171, operates from 7.30 am to 3.30 pm from Monday to Thursday, and from 7.30 am to 12 pm on Fridays.\n",
      "3.\n",
      "WhatsApp\n",
      "Customers can connect with the CRM system through WhatsApp number: +9714-777-1777.\n",
      "Live support about public services\n",
      "Read about\n",
      "live support about public services\n",
      "for people of determination.\n",
      "Get help\n",
      "For additional help in understanding eServices and main sections on the entities  websites, look for  help  which provides you with an interactive tour of the entity s website and tips on how to use it.\n",
      "Help\n",
      "- Ministry of Education\n",
      "Help -\n",
      "Ministry of Health and Prevention\n",
      "Help\n",
      "- Ministry of Community Development\n",
      "Help\n",
      "- Ministry of Human Resources & Emiratisation\n",
      "Help\n",
      "- Ministry of Finance\n",
      "Site tour\n",
      "- Ministry of Climate Change and Environment\n",
      "Help\n",
      "- Federal Authority for Identity, Citizenship, Customs & Port Security\n",
      "Site map\n",
      "- Ministry of Interior\n",
      "Updated on 01 Feb 2024\n",
      "Was this information helpful?\n",
      "Give us your feedback so we can improve your experience.\n",
      "Thank you for submitting your feedback.\n",
      "Your message\n",
      "Next topic\n",
      "Open government data\n",
      "Prev topic\n",
      "FAQs about connected government\n",
      "View all services\n",
      "Resources\n",
      "Map\n",
      "Government data\n",
      "About this portal\n",
      "eNewsletter\n",
      "Participation\n",
      "Disclaimer\n",
      "Citizen Charter\n",
      "SDGs\n",
      "Digital participation policy\n",
      "Accessibility\n",
      "Environment\n",
      "Site map\n",
      "Website statistics\n",
      "Portal team\n",
      "FAQs\n",
      "171 Tawasul\n",
      "Digital Government\n",
      "Tuesday, 4 Jun 2024\n",
      "3:13 AM (GMT +4)\n",
      "Powered by\n",
      "Privacy Policy\n",
      "Copyright\n",
      "Terms and conditions\n",
      "WCAG 2.0 AAA standard\n",
      "2024\n",
      "                                U.ae\n",
      "All rights reserved\n",
      "(success)\n",
      "Popular searches\n",
      "Government services around the clock\n",
      "Visa and Emirates ID\n",
      "Jobs\n",
      "Education\n",
      "Business\n",
      "Moving to the UAE\n",
      "Government services around the clock\n",
      "Visa and Emirates ID\n",
      "Jobs\n",
      "Education\n",
      "Business\n",
      "Moving to the UAE\n",
      "Home\n",
      "Information and services\n",
      "About the UAE\n",
      "Your voice\n",
      "Media\n",
      "UAsk\n",
      "Beta\n",
      " \n",
      "Other languages\n"
     ]
    }
   ],
   "source": [
    "results = collection.query(\n",
    "    query_texts = [\"Services\"],\n",
    "    include = [\"documents\"],\n",
    "    n_results = 1\n",
    ")\n",
    "\n",
    "print(results['documents'][0][0])"
   ]
  },
  {
   "cell_type": "code",
   "execution_count": null,
   "metadata": {},
   "outputs": [],
   "source": []
  }
 ],
 "metadata": {
  "kernelspec": {
   "display_name": "Python 3",
   "language": "python",
   "name": "python3"
  },
  "language_info": {
   "codemirror_mode": {
    "name": "ipython",
    "version": 3
   },
   "file_extension": ".py",
   "mimetype": "text/x-python",
   "name": "python",
   "nbconvert_exporter": "python",
   "pygments_lexer": "ipython3",
   "version": "3.9.7"
  }
 },
 "nbformat": 4,
 "nbformat_minor": 2
}
